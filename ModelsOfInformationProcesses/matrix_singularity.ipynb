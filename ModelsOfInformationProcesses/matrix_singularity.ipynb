{
  "nbformat": 4,
  "nbformat_minor": 0,
  "metadata": {
    "colab": {
      "provenance": []
    },
    "kernelspec": {
      "name": "python3",
      "display_name": "Python 3"
    },
    "language_info": {
      "name": "python"
    }
  },
  "cells": [
    {
      "cell_type": "code",
      "execution_count": null,
      "metadata": {
        "id": "P3_i_vpdR0nE"
      },
      "outputs": [],
      "source": [
        "# GRADED FUNCTION\n",
        "import numpy as np\n",
        "\n",
        "# Наша функция будет проходить через матрицу, изменяя каждую строку так, чтобы привести матрицу к эшелонированной форме.\n",
        "# Если в какой-то момент она не сможет поставить 1 в главную диагональ,\n",
        "# мы вернем значение True, в противном случае мы вернем False.\n",
        "# Эту функцию изменять не надо.\n",
        "\n",
        "\n",
        "def isSingular(A) :\n",
        "    B = np.array(A, dtype=np.float_) #  Делает B как копию матрицы A, так как мы будем менять ее значения.\n",
        "    try:\n",
        "        fixRowZero(B)\n",
        "        fixRowOne(B)\n",
        "        fixRowTwo(B)\n",
        "        fixRowThree(B)\n",
        "    except MatrixIsSingular:\n",
        "        return True\n",
        "    return False\n",
        "\n",
        "# Следующая строка определяет наш флаг ошибки, когда что-то идет не так, и это значит матрица сингулярная.\n",
        "# Нет необходимости редактировать эту строку.\n",
        "class MatrixIsSingular(Exception): pass\n",
        "\n",
        "# Для нулевой строки все, что нам нужно - это сделать нулевой элемент A[0,0] равным 1.\n",
        "# Для этого мы разделим всю строку на значение A[0,0].\n",
        "# Однако, если A[0,0] = 0, это вызовет ошибку деления на ноль, поэтому сначала мы его проверим,\n",
        "# и если это так, то перед делением мы прибавим одну из нижних строк к этой нулевой строке. \n",
        "# Если это не поможет, будем повторять такую проверку для каждой следущей строки до тех пор, пока деление не станет возможным. \n",
        "# Если так и не найдем нужную строку, значит, матрица сингулярна\n",
        "# Эта функция уже готова, не редактируйте ее.\n",
        "def fixRowZero(A):\n",
        "    if A[0,0] == 0 :\n",
        "        A[0] = A[0] + A[1]\n",
        "    if A[0,0] == 0 :\n",
        "        A[0] = A[0] + A[2]\n",
        "    if A[0,0] == 0 :\n",
        "        A[0] = A[0] + A[3]\n",
        "    if A[0,0] == 0 :\n",
        "        raise MatrixIsSingular()\n",
        "    A[0] = A[0] / A[0,0]\n",
        "    return A\n",
        "\n",
        "# Сначала мы установим элементы (то есть A[1,0]) под главной диагональю в ноль.\n",
        "# Далее нам надо, чтобы элемент на диагонали был равен единице, и мы разделим строку на значение A[1,1].\n",
        "# Опять же, нам нужно проверять, не ноль ли A[1,1].\n",
        "# Если это так, мы прибавим нижнюю строку и повторим установку поддиагональных элементов в ноль.\n",
        "# Нет необходимости редактировать эту функцию.\n",
        "def fixRowOne(A) :\n",
        "    A[1] = A[1] - A[1,0] * A[0]\n",
        "    if A[1,1] == 0 :\n",
        "        A[1] = A[1] + A[2]\n",
        "        A[1] = A[1] - A[1,0] * A[0]\n",
        "    if A[1,1] == 0 :\n",
        "        A[1] = A[1] + A[3]\n",
        "        A[1] = A[1] - A[1,0] * A[0]\n",
        "    if A[1,1] == 0 :\n",
        "        raise MatrixIsSingular()\n",
        "    A[1] = A[1] / A[1,1]\n",
        "    return A\n",
        "\n",
        "# Это первая функция, которую вы напишете самостоятельно.\n",
        "# Следуйте инструкциям внутри функции\n",
        "def fixRowTwo(A) :\n",
        "    # Вставьте код, который установит поддиагональные элементы второй строки в ноль (их там два).\n",
        "    A[2, 0] = A[2, 1] = 0\n",
        "    # Далее проверьте, что диагональный элемент не равен нулю.\n",
        "    if A[2,2] == 0:\n",
        "        # Вставьте код, который складывает нижнюю строку со строкой 2.\n",
        "        A[2] += A[3]\n",
        "        # Теперь повторите ваш код, который устанавливает поддиагональные элементы на ноль.\n",
        "        A[2, 0] = A[2, 1] = 0\n",
        "    if A[2,2] == 0: # и если элемент на диагонали всё равно нулевой, вызываем ошибку:\n",
        "        raise MatrixIsSingular()\n",
        "\n",
        "    # Наконец, установите диагональный элемент в единицу, разделив всю строку на этот элемент.\n",
        "    A[2] /= A[2,2]\n",
        "    return A\n",
        "\n",
        "# Эта функция, которую вы так же напишете самостоятельно\n",
        "# Следуйте инструкциям внутри функции.\n",
        "def fixRowThree(A) :\n",
        "    # Вставьте код, который установит поддиагональные элементы третьей строки в ноль.\n",
        "    A[3, 0] = A[3, 1]  = A[3, 2] = 0\n",
        "    # Допишите оператор if, чтобы проверить, равен ли диагональный элемент нулю.\n",
        "    if A[3,3] == 0:\n",
        "        raise MatrixIsSingular()\n",
        "    # Преобразуйте строку, чтобы установить диагональный элемент в единицу.\n",
        "    A[3] /= A[3,3]\n",
        "    return A"
      ]
    },
    {
      "cell_type": "code",
      "source": [
        "A = np.array([\n",
        "        [2, 0, 0, 0],\n",
        "        [0, 3, 0, 0],\n",
        "        [0, 0, 4, 4],\n",
        "        [0, 0, 5, 5]\n",
        "    ], dtype=np.float_)\n",
        "isSingular(A)"
      ],
      "metadata": {
        "colab": {
          "base_uri": "https://localhost:8080/"
        },
        "id": "_48zJ6TBT90J",
        "outputId": "a47a87fb-5f30-4d17-c7e8-f65a927ea5b9"
      },
      "execution_count": null,
      "outputs": [
        {
          "output_type": "execute_result",
          "data": {
            "text/plain": [
              "False"
            ]
          },
          "metadata": {},
          "execution_count": 7
        }
      ]
    },
    {
      "cell_type": "code",
      "source": [
        "A = np.array([\n",
        "        [0, 7, -5, 3],\n",
        "        [2, 8, 0, 4],\n",
        "        [3, 12, 0, 5],\n",
        "        [1, 3, 1, 3]\n",
        "    ], dtype=np.float_)\n",
        "fixRowZero(A)"
      ],
      "metadata": {
        "colab": {
          "base_uri": "https://localhost:8080/"
        },
        "id": "GQ3ZTQM9T_rv",
        "outputId": "fa7c5c35-ae8b-4098-d39c-4ffbb7f159cf"
      },
      "execution_count": null,
      "outputs": [
        {
          "output_type": "execute_result",
          "data": {
            "text/plain": [
              "array([[ 1. ,  7.5, -2.5,  3.5],\n",
              "       [ 2. ,  8. ,  0. ,  4. ],\n",
              "       [ 3. , 12. ,  0. ,  5. ],\n",
              "       [ 1. ,  3. ,  1. ,  3. ]])"
            ]
          },
          "metadata": {},
          "execution_count": 8
        }
      ]
    },
    {
      "cell_type": "code",
      "source": [
        "fixRowOne(A)"
      ],
      "metadata": {
        "colab": {
          "base_uri": "https://localhost:8080/"
        },
        "id": "hy4kB3hZUChp",
        "outputId": "60f1765f-7332-40bb-ce96-060bcdf116d2"
      },
      "execution_count": null,
      "outputs": [
        {
          "output_type": "execute_result",
          "data": {
            "text/plain": [
              "array([[ 1.        ,  7.5       , -2.5       ,  3.5       ],\n",
              "       [-0.        ,  1.        , -0.71428571,  0.42857143],\n",
              "       [ 3.        , 12.        ,  0.        ,  5.        ],\n",
              "       [ 1.        ,  3.        ,  1.        ,  3.        ]])"
            ]
          },
          "metadata": {},
          "execution_count": 9
        }
      ]
    },
    {
      "cell_type": "code",
      "source": [
        "fixRowTwo(A)"
      ],
      "metadata": {
        "colab": {
          "base_uri": "https://localhost:8080/"
        },
        "id": "kYIxMMmCUEYh",
        "outputId": "447ed3a0-2b7d-44d0-f6a2-1726fd7462c9"
      },
      "execution_count": null,
      "outputs": [
        {
          "output_type": "execute_result",
          "data": {
            "text/plain": [
              "array([[ 1.        ,  7.5       , -2.5       ,  3.5       ],\n",
              "       [-0.        ,  1.        , -0.71428571,  0.42857143],\n",
              "       [ 0.        ,  0.        ,  1.        ,  8.        ],\n",
              "       [ 1.        ,  3.        ,  1.        ,  3.        ]])"
            ]
          },
          "metadata": {},
          "execution_count": 10
        }
      ]
    },
    {
      "cell_type": "code",
      "source": [
        "fixRowThree(A)"
      ],
      "metadata": {
        "colab": {
          "base_uri": "https://localhost:8080/"
        },
        "id": "DAJuqjRdUFpO",
        "outputId": "f13d01d1-2197-404b-ac96-5024d786dcc4"
      },
      "execution_count": null,
      "outputs": [
        {
          "output_type": "execute_result",
          "data": {
            "text/plain": [
              "array([[ 1.        ,  7.5       , -2.5       ,  3.5       ],\n",
              "       [-0.        ,  1.        , -0.71428571,  0.42857143],\n",
              "       [ 0.        ,  0.        ,  1.        ,  8.        ],\n",
              "       [ 0.        ,  0.        ,  0.        ,  1.        ]])"
            ]
          },
          "metadata": {},
          "execution_count": 11
        }
      ]
    }
  ]
}