{
  "nbformat": 4,
  "nbformat_minor": 0,
  "metadata": {
    "coursera": {
      "course_slug": "introduction-tensorflow",
      "graded_item_id": "jRjw8",
      "launcher_item_id": "YoQKl"
    },
    "kernelspec": {
      "display_name": "Python 3",
      "language": "python",
      "name": "python3"
    },
    "language_info": {
      "codemirror_mode": {
        "name": "ipython",
        "version": 3
      },
      "file_extension": ".py",
      "mimetype": "text/x-python",
      "name": "python",
      "nbconvert_exporter": "python",
      "pygments_lexer": "ipython3",
      "version": "3.6.8"
    },
    "colab": {
      "provenance": [],
      "include_colab_link": true
    }
  },
  "cells": [
    {
      "cell_type": "markdown",
      "metadata": {
        "id": "view-in-github",
        "colab_type": "text"
      },
      "source": [
        "<a href=\"https://colab.research.google.com/github/sikoraaxd/Homework/blob/main/MiPSII/HousePrices.ipynb\" target=\"_parent\"><img src=\"https://colab.research.google.com/assets/colab-badge.svg\" alt=\"Open In Colab\"/></a>"
      ]
    },
    {
      "cell_type": "markdown",
      "metadata": {
        "id": "mw2VBrBcgvGa"
      },
      "source": [
        "###В этом упражнении вы построите нейронную сеть, которая предсказывает цену дома по простой формуле.\n",
        "\n",
        "Представьте себе, что цены на жилье зависят только от количества комнат: дом стоит 500 000 + 500 000 за комнату. то есть дом с 1 спальней стоит 1 000 000, дом с 2 спальнями стоит 1 500 000 и т.д.\n",
        "\n",
        "Как вы создадите нейронную сеть, которая обучается этой зависисмости? проверьте ее, чтобы она предсказывала для дома с 7 спальнями стоимость около 4 млн.\n",
        "\n",
        "**Подсказка**: ваша сеть может работать лучше, если вы *масштабируете* цену так, как это было описано в лекциях. Не нужно давать ответ 4 000 000, лучше создать что-то, что будет предсказывать число 4 и выводить ваш ответ в миллионах."
      ]
    },
    {
      "cell_type": "code",
      "metadata": {
        "id": "moHyJyr4P0OO"
      },
      "source": [
        "import tensorflow as tf\n",
        "import numpy as np\n",
        "from tensorflow import keras"
      ],
      "execution_count": 95,
      "outputs": []
    },
    {
      "cell_type": "code",
      "metadata": {
        "id": "PUNO2E6SeURH"
      },
      "source": [
        "# GRADED FUNCTION: house_model\n",
        "def house_model(y_new):\n",
        "    xs = np.arange(1, 7, 0.1)\n",
        "    xs = xs.reshape((xs.shape[0], 1))\n",
        "    ys = (0.5*xs+0.5).reshape(xs.shape[0], 1)\n",
        "    model = tf.keras.models.Sequential(tf.keras.layers.Dense(1))\n",
        "    model.compile(optimizer=tf.keras.optimizers.SGD(learning_rate=0.01, momentum=0.8), \n",
        "                  loss=tf.keras.losses.MeanAbsoluteError())\n",
        "    model.fit(xs, ys, epochs=10)\n",
        "    return model.predict(y_new)[0]"
      ],
      "execution_count": 96,
      "outputs": []
    },
    {
      "cell_type": "code",
      "metadata": {
        "id": "LDe5PlKCP0OQ",
        "colab": {
          "base_uri": "https://localhost:8080/"
        },
        "outputId": "10b233d3-ef00-4133-8b21-05f18598e3b9"
      },
      "source": [
        "prediction = house_model([7.0])\n",
        "print(prediction.squeeze(), 'миллиона рублей')"
      ],
      "execution_count": 101,
      "outputs": [
        {
          "output_type": "stream",
          "name": "stdout",
          "text": [
            "Epoch 1/10\n",
            "2/2 [==============================] - 0s 8ms/step - loss: 8.1113\n",
            "Epoch 2/10\n",
            "2/2 [==============================] - 0s 8ms/step - loss: 7.5451\n",
            "Epoch 3/10\n",
            "2/2 [==============================] - 0s 8ms/step - loss: 6.5788\n",
            "Epoch 4/10\n",
            "2/2 [==============================] - 0s 7ms/step - loss: 5.3303\n",
            "Epoch 5/10\n",
            "2/2 [==============================] - 0s 14ms/step - loss: 3.9889\n",
            "Epoch 6/10\n",
            "2/2 [==============================] - 0s 8ms/step - loss: 2.4863\n",
            "Epoch 7/10\n",
            "2/2 [==============================] - 0s 7ms/step - loss: 0.9908\n",
            "Epoch 8/10\n",
            "2/2 [==============================] - 0s 7ms/step - loss: 0.4953\n",
            "Epoch 9/10\n",
            "2/2 [==============================] - 0s 10ms/step - loss: 0.9346\n",
            "Epoch 10/10\n",
            "2/2 [==============================] - 0s 9ms/step - loss: 0.6211\n",
            "1/1 [==============================] - 0s 82ms/step\n",
            "4.111128 миллиона рублей\n"
          ]
        }
      ]
    }
  ]
}