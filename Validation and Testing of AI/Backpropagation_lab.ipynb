{
  "nbformat": 4,
  "nbformat_minor": 0,
  "metadata": {
    "coursera": {
      "course_slug": "maths4ml-calculus",
      "graded_item_id": "oBlKd",
      "launcher_item_id": "37rcX"
    },
    "kernelspec": {
      "display_name": "Python 3",
      "language": "python",
      "name": "python3"
    },
    "language_info": {
      "codemirror_mode": {
        "name": "ipython",
        "version": 3
      },
      "file_extension": ".py",
      "mimetype": "text/x-python",
      "name": "python",
      "nbconvert_exporter": "python",
      "pygments_lexer": "ipython3",
      "version": "3.6.2"
    },
    "colab": {
      "provenance": []
    }
  },
  "cells": [
    {
      "cell_type": "markdown",
      "metadata": {
        "id": "Lv9AyFio-cOi"
      },
      "source": [
        "# Backpropagation\n",
        "## Инструкции к выполнению\n",
        "В этом задании вы научите нейронную сеть рисовать кривую.\n",
        "Кривая принимает одну входную переменную, количество пройденного по кривой от 0 до 1, и возвращает 2 выходных значения, двумерные координаты положения точек на кривой.\n",
        "\n",
        "Чтобы помочь уловить сложность кривой, мы будем использовать два скрытых слоя в нашей сети с 6 и 7 нейронами соответственно.\n",
        "\n",
        "\n",
        "Нейронная сеть с двумя слоями. 1 нейрон в нулевом слое, 6 в первом, 7 во втором и 2 в третьем.\n",
        "\n",
        "\n",
        "Вам будет предложено заполнить функции, которые вычисляют градиент функции стоимости с учетом весов и смещений сети. Ваш код станет частью алгоритма стохастического градиентного спуска, который будет обучать вашу сеть.\n",
        "\n",
        "\n",
        "\n",
        "### Матрицы в Python\n",
        "Напомним, что матрицы можно перемножать двумя способами.\n",
        "\n",
        "Поэлементное умножение: когда две матрицы имеют одинаковые размеры, элементы матрицы в одной позиции в каждой матрице перемножаются.\n",
        "В python для этого используется оператор '$ * $'.\n",
        "```python\n",
        "A = B * C\n",
        "```\n",
        "\n",
        "Матричное умножение: когда количество столбцов в первой матрице совпадает с количеством строк во второй.\n",
        "В python для этого используется оператор '$@$'.\n",
        "```python\n",
        "A = B @ C\n",
        "```\n",
        "\n",
        "Это задание не будет проверять ваше умение ими пользоваться, оно будет использовать оба в представленном вам стартовом коде.\n",
        "Нет необходимости менять их или заботиться об их особенностях.\n",
        "\n",
        "### Как отправить результат\n",
        "Чтобы выполнить задание, отредактируйте код в ячейках ниже, где вам предлагается это сделать.\n",
        "Когда закончите, сохраните этот ноутбук на своем Google Drive и прикрепите ссылку на него к ответу на задание в Moodle\n",
        "Перед этим проверьте свой код, используя ячейки в нижней части записной книжки.\n",
        "\n",
        "**Прежде чем продолжить, запустите следующую ячейку.**\n"
      ]
    },
    {
      "cell_type": "code",
      "metadata": {
        "id": "hUXB3NNS-pij"
      },
      "source": [
        "%matplotlib inline\n",
        "import numpy as np\n",
        "import matplotlib.colors as mcolors\n",
        "import matplotlib.pyplot as plt\n",
        "\n",
        "def plot_training (x, y, iterations=10000, aggression=3.5, noise=1) :\n",
        "    global W1, W2, W3, b1, b2, b3\n",
        "    fig,ax = plt.subplots(figsize=(8, 8), dpi= 80)\n",
        "    ax.set_xlim([0,1])\n",
        "    ax.set_ylim([0,1])\n",
        "    ax.set_aspect(1)\n",
        "\n",
        "    xx = np.arange(0,1.01,0.01)\n",
        "    yy = np.arange(0,1.01,0.01)\n",
        "    X, Y = np.meshgrid(xx, yy)\n",
        "    Z = ((X-0.5)**2 + (Y-1)**2)**(1/2) / (1.25)**(1/2)\n",
        "    im = ax.imshow(Z, vmin=0, vmax=1, extent=[0, 1, 1, 0], cmap=blueMap)\n",
        "\n",
        "    ax.plot(y[0],y[1], lw=1.5, color=green);\n",
        "\n",
        "    while iterations>=0 :\n",
        "        j_W1 = J_W1(x, y) * (1 + np.random.randn() * noise)\n",
        "        j_W2 = J_W2(x, y) * (1 + np.random.randn() * noise)\n",
        "        j_W3 = J_W3(x, y) * (1 + np.random.randn() * noise)\n",
        "        j_b1 = J_b1(x, y) * (1 + np.random.randn() * noise)\n",
        "        j_b2 = J_b2(x, y) * (1 + np.random.randn() * noise)\n",
        "        j_b3 = J_b3(x, y) * (1 + np.random.randn() * noise)\n",
        "\n",
        "        W1 = W1 - j_W1 * aggression\n",
        "        W2 = W2 - j_W2 * aggression\n",
        "        W3 = W3 - j_W3 * aggression\n",
        "        b1 = b1 - j_b1 * aggression\n",
        "        b2 = b2 - j_b2 * aggression\n",
        "        b3 = b3 - j_b3 * aggression\n",
        "\n",
        "        if (iterations%100==0) :\n",
        "            nf = network_function(x)[-1]\n",
        "            ax.plot(nf[0],nf[1], lw=2, color=magentaTrans);\n",
        "        iterations -= 1\n",
        "\n",
        "    nf = network_function(x)[-1]\n",
        "    ax.plot(nf[0],nf[1], lw=2.5, color=orange);\n",
        "\n",
        "\n",
        "def training_data (N = 100) :\n",
        "    x = np.arange(0,1,1/N)\n",
        "    y = np.array([\n",
        "      16*np.sin(2*np.pi*x)**3,\n",
        "      13*np.cos(2*np.pi*x) - 5*np.cos(2*2*np.pi*x) - 2*np.cos(3*2*np.pi*x)- np.cos(4*2*np.pi*x)\n",
        "    ]\n",
        "    ) / 20\n",
        "    y = (y+1)/2\n",
        "    x = np.reshape(x, (1, N))\n",
        "    #y = np.reshape(y, (2, N))\n",
        "    return x, y\n",
        "\n",
        "def make_colormap(seq):\n",
        "    seq = [(None,) * 3, 0.0] + list(seq) + [1.0, (None,) * 3]\n",
        "    cdict = {'red': [], 'green': [], 'blue': []}\n",
        "    for i, item in enumerate(seq):\n",
        "        if isinstance(item, float):\n",
        "            r1, g1, b1 = seq[i - 1]\n",
        "            r2, g2, b2 = seq[i + 1]\n",
        "            cdict['red'].append([item, r1, r2])\n",
        "            cdict['green'].append([item, g1, g2])\n",
        "            cdict['blue'].append([item, b1, b2])\n",
        "    return mcolors.LinearSegmentedColormap('CustomMap', cdict)\n",
        "\n",
        "magenta = (0xfc/255, 0x75/255, 0xdb/255) # Brighter magenta\n",
        "magentaTrans = (0xfc/255, 0x75/255, 0xdb/255, 0.1) # Brighter Transparent magenta\n",
        "orange = (218/255, 171/255, 115/255)\n",
        "green = (175/255, 219/255, 133/255)\n",
        "white = (240/255, 245/255, 250/255)\n",
        "blue1 = (70/255, 101/255, 137/255)\n",
        "blue2 = (122/255, 174/255, 215/255)\n",
        "\n",
        "blueMap = make_colormap([blue2, blue1])\n"
      ],
      "execution_count": 1,
      "outputs": []
    },
    {
      "cell_type": "markdown",
      "metadata": {
        "id": "Medw4lN7-cOl"
      },
      "source": [
        "## Прямой проход\n",
        "\n",
        "В следующей ячейке мы определим функции для настройки нашей нейронной сети.\n",
        "А именно функцию активации, $\\sigma(z)$, ее производную, $\\sigma'(z)$,\n",
        "функцию для инициализации весов и смещений и функцию, которая вычисляет каждую активацию сети на прямом проходе.\n",
        "\n",
        "Напомним уравнения прямого прохода:\n",
        "$$ \\mathbf{a}^{(n)} = \\sigma(\\mathbf{z}^{(n)}) $$\n",
        "$$ \\mathbf{z}^{(n)} = \\mathbf{W}^{(n)}\\mathbf{a}^{(n-1)} + \\mathbf{b}^{(n)} $$\n",
        "\n",
        "Логистическая функция (сигмоида):\n",
        "$$ \\sigma(\\mathbf{z}) = \\frac{1}{1 + \\exp(-\\mathbf{z})} $$\n",
        "\n",
        "Следующие ячейки редактировать не нужно.\n",
        "Они не оцениваются, но вы можете изучить, как они работают.\n",
        "\n",
        "**Прежде чем продолжить, запустите следующие ячейки.**"
      ]
    },
    {
      "cell_type": "code",
      "metadata": {
        "collapsed": true,
        "id": "rg2UXUTH-cOn"
      },
      "source": [
        "# PACKAGE\n",
        "\n",
        "# Вот функция активации и ее производная.\n",
        "sigma = lambda z : 1 / (1 + np.exp(-z))\n",
        "d_sigma = lambda z : np.cosh(z/2)**(-2) / 4\n",
        "\n",
        "# Эта функция инициализирует сеть с ее структурой, а также сбрасывает все уже выполненные тренировки.\n",
        "def reset_network (n1 = 6, n2 = 7, random=np.random) :\n",
        "    global W1, W2, W3, b1, b2, b3\n",
        "    W1 = random.randn(n1, 1) / 2\n",
        "    W2 = random.randn(n2, n1) / 2\n",
        "    W3 = random.randn(2, n2) / 2\n",
        "    b1 = random.randn(n1, 1) / 2\n",
        "    b2 = random.randn(n2, 1) / 2\n",
        "    b3 = random.randn(2, 1) / 2\n",
        "\n",
        "# Эта функция передает каждую активацию на следующий уровень. Он возвращает все взвешенные суммы и активации.\n",
        "def network_function(a0) :\n",
        "    z1 = W1 @ a0 + b1\n",
        "    a1 = sigma(z1)\n",
        "    z2 = W2 @ a1 + b2\n",
        "    a2 = sigma(z2)\n",
        "    z3 = W3 @ a2 + b3\n",
        "    a3 = sigma(z3)\n",
        "    return a0, z1, a1, z2, a2, z3, a3\n",
        "\n",
        "# Это функция затрат нейронной сети по обучающему набору.\n",
        "def cost(x, y) :\n",
        "    return np.linalg.norm(network_function(x)[-1] - y)**2 / x.size"
      ],
      "execution_count": 2,
      "outputs": []
    },
    {
      "cell_type": "markdown",
      "metadata": {
        "id": "4GzV11pA-cOn"
      },
      "source": [
        "## Обратное распространение ошибки\n",
        "\n",
        "В следующих ячейках вам будет предложено написать функции для градиента функции затрат с учетом весов и смещений.\\\n",
        "Мы начнем со слоя 3, самого простого в реализации, и проработаем слои в обратном направлении.\n",
        "\n",
        "Определим градиент как:\n",
        "$$ \\mathbf{J}_{\\mathbf{W}^{(3)}} = \\frac{\\partial C}{\\partial \\mathbf{W}^{[3]}} $$\n",
        "$$ \\mathbf{J}_{\\mathbf{b}^{(3)}} = \\frac{\\partial C}{\\partial \\mathbf{b}^{[3]}} $$\n",
        "и т.д., где $C$ - среднее арифметическое от всех значений функции затрат по обучающему набору. Т.е.,\n",
        "$$ C = \\frac{1}{N}\\sum_k Cost^{(k)} $$\n",
        "В практических тестах вы вычислили градиенты для весов:\n",
        "$$ \\frac{\\partial C}{\\partial \\mathbf{W}^{(3)}} =\n",
        "   \\frac{\\partial C}{\\partial \\mathbf{a}^{(3)}}\n",
        "   \\frac{\\partial \\mathbf{a}^{(3)}}{\\partial \\mathbf{z}^{(3)}}\n",
        "   \\frac{\\partial \\mathbf{z}^{(3)}}{\\partial \\mathbf{W}^{(3)}}\n",
        "   ,$$\n",
        " и то же самое для смещений:\n",
        "$$ \\frac{\\partial C}{\\partial \\mathbf{b}^{(3)}} =\n",
        "   \\frac{\\partial C}{\\partial \\mathbf{a}^{(3)}}\n",
        "   \\frac{\\partial \\mathbf{a}^{(3)}}{\\partial \\mathbf{z}^{(3)}}\n",
        "   \\frac{\\partial \\mathbf{z}^{(3)}}{\\partial \\mathbf{b}^{(3)}}\n",
        "   .$$\n",
        "С частными производными, имеющими вид,\n",
        "$$ \\frac{\\partial C}{\\partial \\mathbf{a}^{(3)}} = 2(\\mathbf{a}^{(3)} - \\mathbf{y}) $$\n",
        "$$ \\frac{\\partial \\mathbf{a}^{(3)}}{\\partial \\mathbf{z}^{(3)}} = \\sigma'({z}^{(3)})$$\n",
        "$$ \\frac{\\partial \\mathbf{z}^{(3)}}{\\partial \\mathbf{W}^{(3)}} = \\mathbf{a}^{(2)}$$\n",
        "$$ \\frac{\\partial \\mathbf{z}^{(3)}}{\\partial \\mathbf{b}^{(3)}} = 1$$\n",
        "\n",
        "Тут уже готова функция J_W3 ($\\mathbf{J}_{\\mathbf{W}^{(3)}}$), чтобы вы могли посмотреть, как она работает.\n",
        "После этого вы сможете самостоятельно адаптировать функцию J_b3."
      ]
    },
    {
      "cell_type": "code",
      "metadata": {
        "collapsed": true,
        "id": "hQlLTGw1-cOo"
      },
      "source": [
        "# Градиент для весов третьего слоя. Редактировать эту функцию не нужно.\n",
        "def J_W3 (x, y) :\n",
        "    # Сначала получим все активации и взвешенные суммы на каждом слое сети.\n",
        "    a0, z1, a1, z2, a2, z3, a3 = network_function(x)\n",
        "    # Будем использовать переменную J для сохранения частей нашего результата по мере продвижения, обновляя его в каждой строке.\n",
        "\n",
        "    # Сначала вычисляем dC/da3, используя формулы, приведенные выше.\n",
        "    J = 2 * (a3 - y)\n",
        "    # Затем умножаем результат, который мы вычислили, на производную сигмы по z3.\n",
        "    J = J * d_sigma(z3)\n",
        "    # Затем делаем скалярное произведение (вдоль оси, содержащей обучающие примеры) с конечной частной производной,\n",
        "    # то есть dz3/dW3 = a2\n",
        "    # и делим  на количество обучающих примеров, чтобы получить среднее значение по всем обучающим примерам.\n",
        "    J = J @ a2.T / x.size\n",
        "    # возвращаем результат\n",
        "    return J\n",
        "\n",
        "  # В следующей функции вы реализуете градиент для смещения.\n",
        "  # Как вы увидите из формул частных производных, отличается только последняя частная производная.\n",
        "  # Первые две частные производные такие же, как и ранее.\n",
        "\n",
        "# ===ЭТУ ФУНКЦИЮ НАДО РЕАЛИЗОВАТЬ САМОСТОЯТЕЛЬНО===\n",
        "def J_b3 (x, y) :\n",
        "    # Как и в прошлый раз, мы сначала настроим активации.\n",
        "    a0, z1, a1, z2, a2, z3, a3 = network_function(x)\n",
        "    # Затем вы должны реализовать первые две частные производные градиента.\n",
        "    # ===Скопируйте две строки из предыдущей функции, чтобы установить первые два члена градиента===\n",
        "    J = 2 * (a3 - y)\n",
        "    J = J * d_sigma(z3)\n",
        "    # В последней строке нам не нужно умножать на dz3 / db3, потому что это умножение на 1.\n",
        "    # Однако нам все еще нужно суммировать все обучающие примеры.\n",
        "    # Нет необходимости редактировать эту строку.\n",
        "    J = np.sum(J, axis=1, keepdims=True) / x.size\n",
        "    return J"
      ],
      "execution_count": 3,
      "outputs": []
    },
    {
      "cell_type": "markdown",
      "metadata": {
        "id": "VMHaxg2u-cOp"
      },
      "source": [
        "Далее мы сделаем ффункцию градиента для слоя 2. Частные производные для него:\n",
        "$$ \\frac{\\partial C}{\\partial \\mathbf{W}^{(2)}} =\n",
        "   \\frac{\\partial C}{\\partial \\mathbf{a}^{(3)}}\n",
        "   \\left(\n",
        "   \\frac{\\partial \\mathbf{a}^{(3)}}{\\partial \\mathbf{a}^{(2)}}\n",
        "   \\right)\n",
        "   \\frac{\\partial \\mathbf{a}^{(2)}}{\\partial \\mathbf{z}^{(2)}}\n",
        "   \\frac{\\partial \\mathbf{z}^{(2)}}{\\partial \\mathbf{W}^{(2)}}\n",
        "   ,$$\n",
        "$$ \\frac{\\partial C}{\\partial \\mathbf{b}^{(2)}} =\n",
        "   \\frac{\\partial C}{\\partial \\mathbf{a}^{(3)}}\n",
        "   \\left(\n",
        "   \\frac{\\partial \\mathbf{a}^{(3)}}{\\partial \\mathbf{a}^{(2)}}\n",
        "   \\right)\n",
        "   \\frac{\\partial \\mathbf{a}^{(2)}}{\\partial \\mathbf{z}^{(2)}}\n",
        "   \\frac{\\partial \\mathbf{z}^{(2)}}{\\partial \\mathbf{b}^{(2)}}\n",
        "   .$$\n",
        "Это очень похоже на предыдущий слой, за двумя исключениями:\n",
        "* В скобках указана новая частная производная, $\\frac{\\partial \\mathbf{a}^{(3)}}{\\partial \\mathbf{a}^{(2)}}$\n",
        "* множители после скобок теперь на один слой ниже.\n",
        "\n",
        "Напомним, что эта новая частная производная имеет следующий вид:\n",
        "$$ \\frac{\\partial \\mathbf{a}^{(3)}}{\\partial \\mathbf{a}^{(2)}} =\n",
        "   \\frac{\\partial \\mathbf{a}^{(3)}}{\\partial \\mathbf{z}^{(3)}}\n",
        "   \\frac{\\partial \\mathbf{z}^{(3)}}{\\partial \\mathbf{a}^{(2)}} =\n",
        "   \\sigma'(\\mathbf{z}^{(3)})\n",
        "   \\mathbf{W}^{(3)}\n",
        "$$\n",
        "\n",
        "Чтобы показать, как изменилась ситуация, мы снова покажем реализацию градиента для веса, а вам надо будет применить его для смещения."
      ]
    },
    {
      "cell_type": "code",
      "metadata": {
        "collapsed": true,
        "id": "gCSohhHo-cOq"
      },
      "source": [
        "# Сравните эту функцию с J_W3, чтобы увидеть, как она изменилась.\n",
        "# Редактировать ее не надо.\n",
        "def J_W2 (x, y) :\n",
        "    #Первые две строки такие же как для J_W3.\n",
        "    a0, z1, a1, z2, a2, z3, a3 = network_function(x)\n",
        "    J = 2 * (a3 - y)\n",
        "    # следующие две строки реализуют da3/da2, сначала σ', а затем W3.\n",
        "    J = J * d_sigma(z3)\n",
        "    J = (J.T @ W3).T\n",
        "    # и последние строки такие же, как в J_W3, но с уменьшенным номером слоя.\n",
        "    J = J * d_sigma(z2)\n",
        "    J = J @ a1.T / x.size\n",
        "    return J\n",
        "\n",
        "# Как и прежде заполните недостающие строки\n",
        "# ===ЭТУ ФУНКЦИЮ НАДО РЕАЛИЗОВАТЬ САМОСТОЯТЕЛЬНО===\n",
        "def J_b2 (x, y) :\n",
        "    a0, z1, a1, z2, a2, z3, a3 = network_function(x)\n",
        "    J = 2 * (a3 - y)\n",
        "    J = J * d_sigma(z3)\n",
        "    J = (J.T @ W3).T\n",
        "    J = J * d_sigma(z2)\n",
        "    J = np.sum(J, axis=1, keepdims=True) / x.size\n",
        "    return J"
      ],
      "execution_count": 4,
      "outputs": []
    },
    {
      "cell_type": "markdown",
      "metadata": {
        "id": "rrPoJvXE-cOs"
      },
      "source": [
        "Слой 1 очень похож на слой 2, только у него добавился еще один множитель.\n",
        "$$ \\frac{\\partial C}{\\partial \\mathbf{W}^{(1)}} =\n",
        "   \\frac{\\partial C}{\\partial \\mathbf{a}^{(3)}}\n",
        "   \\left(\n",
        "   \\frac{\\partial \\mathbf{a}^{(3)}}{\\partial \\mathbf{a}^{(2)}}\n",
        "   \\frac{\\partial \\mathbf{a}^{(2)}}{\\partial \\mathbf{a}^{(1)}}\n",
        "   \\right)\n",
        "   \\frac{\\partial \\mathbf{a}^{(1)}}{\\partial \\mathbf{z}^{(1)}}\n",
        "   \\frac{\\partial \\mathbf{z}^{(1)}}{\\partial \\mathbf{W}^{(1)}}\n",
        "   ,$$\n",
        "$$ \\frac{\\partial C}{\\partial \\mathbf{b}^{(1)}} =\n",
        "   \\frac{\\partial C}{\\partial \\mathbf{a}^{(3)}}\n",
        "   \\left(\n",
        "   \\frac{\\partial \\mathbf{a}^{(3)}}{\\partial \\mathbf{a}^{(2)}}\n",
        "   \\frac{\\partial \\mathbf{a}^{(2)}}{\\partial \\mathbf{a}^{(1)}}\n",
        "   \\right)\n",
        "   \\frac{\\partial \\mathbf{a}^{(1)}}{\\partial \\mathbf{z}^{(1)}}\n",
        "   \\frac{\\partial \\mathbf{z}^{(1)}}{\\partial \\mathbf{b}^{(1)}}\n",
        "   .$$\n",
        "Вам необходимо адаптировать строки из предыдущих ячеек и реализовать градиенты как весов, так и смещения"
      ]
    },
    {
      "cell_type": "code",
      "metadata": {
        "collapsed": true,
        "id": "GjViypXS-cOs"
      },
      "source": [
        "# Заполните недостающие строки\n",
        "# ===ЭТУ ФУНКЦИЮ НАДО РЕАЛИЗОВАТЬ САМОСТОЯТЕЛЬНО===\n",
        "def J_W1 (x, y) :\n",
        "    a0, z1, a1, z2, a2, z3, a3 = network_function(x)\n",
        "    J = 2 * (a3 - y)\n",
        "    J = J * d_sigma(z3)\n",
        "    J = (J.T @ W3).T\n",
        "    J = J * d_sigma(z2)\n",
        "    J = (J.T @ W2).T\n",
        "    J = J * d_sigma(z1)\n",
        "    J = J @ a0.T / x.size\n",
        "    return J\n",
        "\n",
        "# Заполните недостающие строки\n",
        "# ===ЭТУ ФУНКЦИЮ НАДО РЕАЛИЗОВАТЬ САМОСТОЯТЕЛЬНО===\n",
        "def J_b1 (x, y) :\n",
        "    a0, z1, a1, z2, a2, z3, a3 = network_function(x)\n",
        "    J = 2 * (a3 - y)\n",
        "    J = J * d_sigma(z3)\n",
        "    J = (J.T @ W3).T\n",
        "    J = J * d_sigma(z2)\n",
        "    J = (J.T @ W2).T\n",
        "    J = J * d_sigma(z1)\n",
        "    J = np.sum(J, axis=1, keepdims=True) / x.size\n",
        "    return J"
      ],
      "execution_count": 5,
      "outputs": []
    },
    {
      "cell_type": "markdown",
      "metadata": {
        "id": "pWZIZJW7-cOt"
      },
      "source": [
        "## Протестируйте свой код перед отправкой\n",
        "Чтобы проверить код, который вы написали выше, запустите все предыдущие ячейки (выберите каждую ячейку, затем нажмите кнопку воспроизведения [▶ |] или нажмите Shift-Enter).\n",
        "Затем вы можете использовать приведенный ниже код, чтобы проверить свою функцию.\n",
        "Эти ячейки не проверяются, вы можете редактировать и запускать их сколько угодно."
      ]
    },
    {
      "cell_type": "markdown",
      "metadata": {
        "id": "yHtoM0J0-cOt"
      },
      "source": [
        "Сначала мы генерируем обучающие данные и генерируем сеть со случайным образом назначенными весами и смещениями."
      ]
    },
    {
      "cell_type": "code",
      "metadata": {
        "collapsed": true,
        "id": "tSELt8dO-cOt"
      },
      "source": [
        "x, y = training_data()\n",
        "reset_network()"
      ],
      "execution_count": 6,
      "outputs": []
    },
    {
      "cell_type": "markdown",
      "metadata": {
        "id": "a_km-hXs-cOu"
      },
      "source": [
        "Затем, если вы правильно выполнили задание, следующий код будет перебирать алгоритм обратного распространения ошибки с использованием вычисленных вами градиентов.\n",
        "Функция будет отображать данные обучения (зеленым) и решения нейронной сети розовым цветом для каждой итерации и оранжевым цветом для последнего вывода.\n",
        "\n",
        "Для обучения этой сети требуется около 50 000 итераций.\n",
        "Тем не менее, вы можете прервать его - **выполнение 10 000 итераций займет около минуты**.\n",
        "Запускайте строку ниже столько раз, сколько захотите.\n"
      ]
    },
    {
      "cell_type": "code",
      "metadata": {
        "collapsed": true,
        "id": "Cw2B3T3t-cOu",
        "colab": {
          "base_uri": "https://localhost:8080/",
          "height": 547
        },
        "outputId": "711da8c2-849d-4738-9ab2-c075c936c133"
      },
      "source": [
        "plot_training(x, y, iterations=50000, aggression=3, noise=1)"
      ],
      "execution_count": 10,
      "outputs": [
        {
          "output_type": "display_data",
          "data": {
            "text/plain": [
              "<Figure size 640x640 with 1 Axes>"
            ],
            "image/png": "[encoded data removed]"
          },
          "metadata": {}
        }
      ]
    },
    {
      "cell_type": "markdown",
      "metadata": {
        "id": "i-acR_1-mwu3"
      },
      "source": [
        "**После выполнения скопируйте лучшую свою полученную картинку в буфер обмена и вставьте в поле ответа на задание вместе со ссылкой на выполненную работу.**"
      ]
    }
  ]
}