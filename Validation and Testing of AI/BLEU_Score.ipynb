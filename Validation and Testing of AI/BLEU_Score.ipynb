{
  "nbformat": 4,
  "nbformat_minor": 0,
  "metadata": {
    "kernelspec": {
      "display_name": "Python 3",
      "language": "python",
      "name": "python3"
    },
    "language_info": {
      "codemirror_mode": {
        "name": "ipython",
        "version": 3
      },
      "file_extension": ".py",
      "mimetype": "text/x-python",
      "name": "python",
      "nbconvert_exporter": "python",
      "pygments_lexer": "ipython3",
      "version": "3.7.6"
    },
    "colab": {
      "provenance": [],
      "collapsed_sections": [
        "RauHkEnZg_nM"
      ]
    }
  },
  "cells": [
    {
      "cell_type": "markdown",
      "metadata": {
        "id": "Nmsank22g_nG"
      },
      "source": [
        "# Вычисление метрики Bilingual Evaluation Understudy (BLEU)"
      ]
    },
    {
      "cell_type": "markdown",
      "metadata": {
        "id": "0LSCyLZvg_nJ"
      },
      "source": [
        "В этой лабораторной работе мы реализуем популярную метрику для оценки качества машинного перевода: показатель BLEU, предложенный Кишором Папинени и др. в их статье 2002 года [«BLEU: метод автоматической оценки машинного перевода»](https://www.aclweb.org/anthology/P02-1040.pdf) метрика BLEU работает путем сравнения «кандидата» текста с одним или несколькими «эталонными» переводами. Результат тем лучше, чем ближе оценка к 1. Давайте посмотрим, как получить это значение в следующих разделах."
      ]
    },
    {
      "cell_type": "markdown",
      "metadata": {
        "id": "mPx1iTWtg_nK"
      },
      "source": [
        "# Часть 1: метрика BLEU"
      ]
    },
    {
      "cell_type": "markdown",
      "metadata": {
        "id": "tPSGiPIDg_nK"
      },
      "source": [
        "## 1.1  Импорт нужных библиотек\n",
        "\n",
        "Мы начнем с импорта библиотек Python, которые будут использованы в первой части этой лабораторной работы. Мы реализуем нашу собственную версию BLEU Score с помощью Numpy. Чтобы убедиться, что наша реализация верна, мы сравним наши результаты с результатами, полученными [библиотекой SacreBLEU](https://github.com/mjpost/sacrebleu). Этот пакет обеспечивает беспроблемное вычисление общих, сопоставимых и воспроизводимых оценок BLEU. Он также знает все стандартные наборы тестов и обрабатывает загрузку, обработку и токенизацию."
      ]
    },
    {
      "cell_type": "code",
      "metadata": {
        "tags": [],
        "id": "fMXJrQUIg_nL",
        "colab": {
          "base_uri": "https://localhost:8080/"
        },
        "outputId": "89327429-9b7b-4c44-ad75-8ee20e89a14a"
      },
      "source": [
        "import numpy as np\n",
        "import nltk                         # импорт NLTK для выполнения простых задач обработки естественного языка, например, токенизации.\n",
        "nltk.download('punkt')\n",
        "import math\n",
        "from nltk.util import ngrams\n",
        "from collections import Counter     # import класса счетчик.\n",
        "!pip3 install 'sacrebleu'           # загрузка пакета sacrebleu\n",
        "import sacrebleu                    # import sacrebleu для вычисления метрики BLEU.\n",
        "import matplotlib.pyplot as plt     # import pyplot для иллюстрирования."
      ],
      "execution_count": 1,
      "outputs": [
        {
          "output_type": "stream",
          "name": "stderr",
          "text": [
            "[nltk_data] Downloading package punkt to /root/nltk_data...\n",
            "[nltk_data]   Unzipping tokenizers/punkt.zip.\n"
          ]
        },
        {
          "output_type": "stream",
          "name": "stdout",
          "text": [
            "Collecting sacrebleu\n",
            "  Downloading sacrebleu-2.4.0-py3-none-any.whl (106 kB)\n",
            "\u001b[2K     \u001b[90m━━━━━━━━━━━━━━━━━━━━━━━━━━━━━━━━━━━━━━━━\u001b[0m \u001b[32m106.3/106.3 kB\u001b[0m \u001b[31m1.5 MB/s\u001b[0m eta \u001b[36m0:00:00\u001b[0m\n",
            "\u001b[?25hCollecting portalocker (from sacrebleu)\n",
            "  Downloading portalocker-2.8.2-py3-none-any.whl (17 kB)\n",
            "Requirement already satisfied: regex in /usr/local/lib/python3.10/dist-packages (from sacrebleu) (2023.6.3)\n",
            "Requirement already satisfied: tabulate>=0.8.9 in /usr/local/lib/python3.10/dist-packages (from sacrebleu) (0.9.0)\n",
            "Requirement already satisfied: numpy>=1.17 in /usr/local/lib/python3.10/dist-packages (from sacrebleu) (1.23.5)\n",
            "Collecting colorama (from sacrebleu)\n",
            "  Downloading colorama-0.4.6-py2.py3-none-any.whl (25 kB)\n",
            "Requirement already satisfied: lxml in /usr/local/lib/python3.10/dist-packages (from sacrebleu) (4.9.4)\n",
            "Installing collected packages: portalocker, colorama, sacrebleu\n",
            "Successfully installed colorama-0.4.6 portalocker-2.8.2 sacrebleu-2.4.0\n"
          ]
        }
      ]
    },
    {
      "cell_type": "markdown",
      "metadata": {
        "id": "RauHkEnZg_nM"
      },
      "source": [
        "## 1.2  Определение метрики BLEU\n",
        "Вы видели способ подсчета баллов BLEU в лекции:\n",
        "\n",
        "$$BLEU = BP\\times\\Bigl(\\prod_{i=1}^{4}precision_i\\Bigr)^{(1/4)}$$\n",
        "\n",
        "Мы использовали геометрическое среднее четырех $precision$, потому что предполагаем, что будем работать с 4-граммами (4-грамм - четыре подряд-идущих слова). Штраф за лаконичность **BP**(**B**revity **P**enalty) определяется как экспоненциальный спад:\n",
        "\n",
        "$$BP = \\min\\Bigl(1, e^{(1-({ref}/{cand}))}\\Bigr)$$\n",
        "где ${ref}$ and ${cand}$ - количество слов в переводе-эталоне и в переводе-кандидате соответственно. Штраф за краткость позволяет обрабатывать очень короткие переводы.\\\n",
        "${precision}$ определяется как :\n",
        "\n",
        "$$precision_i = \\frac {\\sum_{snt \\in{cand}}\\sum_{i\\in{snt}}\\min\\Bigl(m^{i}_{cand}, m^{i}_{ref}\\Bigr)}{w^{i}_{t}}$$\n",
        "\n",
        "где:\n",
        "\n",
        "* $m^{i}_{cand}$, количество i-грамм совпавших в переводе-кандидате и переводе-эталоне.\n",
        "* $m^{i}_{ref}$, количество i-грамм в переводе-эталоне.\n",
        "* $w^{i}_{t}$, полное количество i-грамм в переводе-кандидате.\n"
      ]
    },
    {
      "cell_type": "markdown",
      "metadata": {
        "id": "c3veTRq0g_nM"
      },
      "source": [
        "## 1.3 Объяснение метрики BLEU"
      ]
    },
    {
      "cell_type": "markdown",
      "metadata": {
        "id": "32FjG21Sg_nN"
      },
      "source": [
        "### Штраф за лаконичность (пример):"
      ]
    },
    {
      "cell_type": "code",
      "metadata": {
        "id": "uwJhuxwJg_nN",
        "colab": {
          "base_uri": "https://localhost:8080/",
          "height": 449
        },
        "outputId": "a203689a-6d27-4931-d6d4-c6218c9409d2"
      },
      "source": [
        "#@markdown Штраф за лаконичность наказывает сгенерированные переводы, слишком короткие по сравнению ближайшей длиной эталона, с экспоненциальным затуханием. Штраф за лаконичность компенсирует тот факт, что оценка BLEU не имеет компонента Recall.\n",
        "\n",
        "ref_length = np.ones(100)\n",
        "can_length = np.linspace(1.5, 0.5, 100)\n",
        "x = ref_length / can_length\n",
        "y = 1 - x\n",
        "y = np.exp(y)\n",
        "y = np.minimum(np.ones(y.shape), y)\n",
        "\n",
        "# Код для визуализации\n",
        "fig, ax = plt.subplots(1)\n",
        "lines = ax.plot(x, y)\n",
        "ax.set(\n",
        "    xlabel=\"Соотношение длины эталона к тексту кандидата\",\n",
        "    ylabel=\"Штраф за лаконичность\",\n",
        ")\n",
        "plt.show()"
      ],
      "execution_count": 2,
      "outputs": [
        {
          "output_type": "display_data",
          "data": {
            "text/plain": [
              "<Figure size 640x480 with 1 Axes>"
            ],
            "image/png": "[encoded data removed]"
          },
          "metadata": {}
        }
      ]
    },
    {
      "cell_type": "markdown",
      "metadata": {
        "id": "W1a-8AN3g_nO"
      },
      "source": [
        "### N-Gram Precision (пример):"
      ]
    },
    {
      "cell_type": "markdown",
      "metadata": {
        "id": "vwJvbNSdg_nP"
      },
      "source": [
        "Показатель Precision для n-грамм подсчитывает, сколько униграмм, биграмм, триграмм и четырехграмм (i = 1, ..., 4) совпадают с их эквивалентами в n-граммах эталонных переводов и действует как показатель точности. Униграммы обеспечивают адекватность, а более длинные n-граммы обеспечивают беглость перевода.\n",
        "\n",
        "Чтобы избежать чрезмерного подсчета, количество n-грамм обрезается до максимального количества n-грамм, имеющегося в эталоне ($ m^{n}_{ref}$). Обычно показатель precision демонстрирует экспоненциальное затухание по мере увеличения степени n-грамма."
      ]
    },
    {
      "cell_type": "code",
      "metadata": {
        "id": "m1yrXS8Lg_nO",
        "colab": {
          "base_uri": "https://localhost:8080/",
          "height": 430
        },
        "cellView": "form",
        "outputId": "89e45222-7b16-4d19-d02b-a07b71104cf8"
      },
      "source": [
        "#@markdown Иллюстрация precision для разных n-грамм на игрушечном наборе данных\n",
        "data = {\"1-gram\": 0.8, \"2-gram\": 0.7, \"3-gram\": 0.6, \"4-gram\": 0.5}\n",
        "names = list(data.keys())\n",
        "values = list(data.values())\n",
        "\n",
        "fig, ax = plt.subplots(1)\n",
        "bars = ax.bar(names, values)\n",
        "ax.set(ylabel=\"N-gram precision\")\n",
        "\n",
        "plt.show()"
      ],
      "execution_count": 3,
      "outputs": [
        {
          "output_type": "display_data",
          "data": {
            "text/plain": [
              "<Figure size 640x480 with 1 Axes>"
            ],
            "image/png": "[encoded data removed]"
          },
          "metadata": {}
        }
      ]
    },
    {
      "cell_type": "markdown",
      "metadata": {
        "id": "kpjg0tfwg_nP"
      },
      "source": [
        "### метрика N-gram BLEU (пример):"
      ]
    },
    {
      "cell_type": "markdown",
      "metadata": {
        "id": "UYkhCFJcg_nP"
      },
      "source": [
        "Когда precision умножается на BP, экспоненциальное затухание n-грамм почти полностью компенсируется. Метрика BLEU соответствует геометрическому среднему этой модифицированной  точности n-грамм."
      ]
    },
    {
      "cell_type": "code",
      "metadata": {
        "id": "R8acKEiMg_nP",
        "colab": {
          "base_uri": "https://localhost:8080/",
          "height": 430
        },
        "outputId": "705db2d8-8059-48fb-8e4c-016816b0587b"
      },
      "source": [
        "#@markdown иллюстрация произведения precision на BP для различных n-грамм на игрушечном наборе данных\n",
        "data = {\"1-gram\": 0.8, \"2-gram\": 0.77, \"3-gram\": 0.74, \"4-gram\": 0.71}\n",
        "names = list(data.keys())\n",
        "values = list(data.values())\n",
        "\n",
        "fig, ax = plt.subplots(1)\n",
        "bars = ax.bar(names, values)\n",
        "ax.set(ylabel=\"Modified N-gram precision\")\n",
        "\n",
        "plt.show()"
      ],
      "execution_count": 4,
      "outputs": [
        {
          "output_type": "display_data",
          "data": {
            "text/plain": [
              "<Figure size 640x480 with 1 Axes>"
            ],
            "image/png": "[encoded data removed]"
          },
          "metadata": {}
        }
      ]
    },
    {
      "cell_type": "markdown",
      "metadata": {
        "id": "jKcU0enTg_nQ"
      },
      "source": [
        "## 1.4 Пример вычисления балла BLEU"
      ]
    },
    {
      "cell_type": "markdown",
      "metadata": {
        "id": "x8GYPRjdg_nQ"
      },
      "source": [
        "В этом примере у нас будет один текст-эталон и два текста-кандидата. Мы токенизируем все предложения, используя пакет NLTK."
      ]
    },
    {
      "cell_type": "code",
      "metadata": {
        "tags": [],
        "id": "xTeohgHig_nQ",
        "colab": {
          "base_uri": "https://localhost:8080/"
        },
        "outputId": "8afdb8ed-bc3a-489e-9559-78d94c8ddb1d"
      },
      "source": [
        "reference = \"The NASA Opportunity rover is battling a massive dust storm on planet Mars.\"\n",
        "candidate_1 = \"The Opportunity rover is combating a big sandstorm on planet Mars.\"\n",
        "candidate_2 = \"A NASA rover is fighting a massive storm on planet Mars.\"\n",
        "\n",
        "tokenized_ref = nltk.word_tokenize(reference.lower())\n",
        "tokenized_cand_1 = nltk.word_tokenize(candidate_1.lower())\n",
        "tokenized_cand_2 = nltk.word_tokenize(candidate_2.lower())\n",
        "\n",
        "print(f\"{reference} -> {tokenized_ref}\")\n",
        "print(\"\\n\")\n",
        "print(f\"{candidate_1} -> {tokenized_cand_1}\")\n",
        "print(\"\\n\")\n",
        "print(f\"{candidate_2} -> {tokenized_cand_2}\")"
      ],
      "execution_count": 5,
      "outputs": [
        {
          "output_type": "stream",
          "name": "stdout",
          "text": [
            "The NASA Opportunity rover is battling a massive dust storm on planet Mars. -> ['the', 'nasa', 'opportunity', 'rover', 'is', 'battling', 'a', 'massive', 'dust', 'storm', 'on', 'planet', 'mars', '.']\n",
            "\n",
            "\n",
            "The Opportunity rover is combating a big sandstorm on planet Mars. -> ['the', 'opportunity', 'rover', 'is', 'combating', 'a', 'big', 'sandstorm', 'on', 'planet', 'mars', '.']\n",
            "\n",
            "\n",
            "A NASA rover is fighting a massive storm on planet Mars. -> ['a', 'nasa', 'rover', 'is', 'fighting', 'a', 'massive', 'storm', 'on', 'planet', 'mars', '.']\n"
          ]
        }
      ]
    },
    {
      "cell_type": "markdown",
      "metadata": {
        "id": "66OK8qO6g_nR"
      },
      "source": [
        "### ШАГ 1:Вычисление штрафа за лаконичность (BP)\n",
        "(выполнить самостоятельно)\n",
        "\n",
        "вспомните формулу штрафа за лаконичность:$$BP = \\min\\Bigl(1, e^{(1-({ref}/{cand}))}\\Bigr)$$"
      ]
    },
    {
      "cell_type": "code",
      "metadata": {
        "id": "Rk7afPCKg_nR"
      },
      "source": [
        "# штраф за лаконичность\n",
        "def brevity_penalty(candidate, reference):\n",
        "    ref_length = len(reference) # количество n-грамм в эталоне\n",
        "    can_length = len(candidate) # количество n-грамм в кандидате\n",
        "\n",
        "\n",
        "    # ЗДЕСЬ ВАШ КОД\n",
        "    if can_length > ref_length:\n",
        "      BP = 1\n",
        "    else:\n",
        "      BP = np.exp(1-(ref_length/can_length))\n",
        "    return BP"
      ],
      "execution_count": 6,
      "outputs": []
    },
    {
      "cell_type": "markdown",
      "metadata": {
        "id": "fgce3ENSg_nR"
      },
      "source": [
        "### ШАГ 2: Вычисление Precision\n",
        "\n",
        "(выполнить самостоятельно)"
      ]
    },
    {
      "cell_type": "code",
      "metadata": {
        "id": "uVyuLtyyg_nR"
      },
      "source": [
        "def clipped_precision(candidate, reference):\n",
        "    \"\"\"\n",
        "    Функция обрезанной точности получает исходное предложение и ее машинный перевод\n",
        "    \"\"\"\n",
        "\n",
        "    clipped_precision_score = []\n",
        "\n",
        "    for i in range(1, 5): # перебрать от 1- до 4-грамм\n",
        "        ref_n_gram = Counter(ngrams(reference,i))\n",
        "        cand_n_gram = Counter(ngrams(candidate,i))     # счетчик n-грамм кандидата\n",
        "\n",
        "        c = sum(cand_n_gram.values())\n",
        "\n",
        "        for j in cand_n_gram: # перебрать все n-граммы в кандидате\n",
        "            if j in ref_n_gram: # если есть такая n-грамма  в эталоне\n",
        "              # если счетчик n-грамм кандидата больше, чем соответствующий счетчик n-грамм эталона\n",
        "              if cand_n_gram[j] > ref_n_gram[j]:\n",
        "                cand_n_gram[j] = ref_n_gram[j] # то установить счетчик n-грамм кандидата равным счетчику кандидата\n",
        "            else:\n",
        "                cand_n_gram[j] = 0 # иначе установить счетчик n-грамм кандидата равным нулю\n",
        "\n",
        "        clipped_precision_score.append(sum(cand_n_gram.values())/c)\n",
        "\n",
        "    weights =[0.25]*4\n",
        "\n",
        "    s = (w_i * math.log(p_i) for w_i, p_i in zip(weights, clipped_precision_score))\n",
        "\n",
        "    s = math.exp(math.fsum(s))\n",
        "    return s\n"
      ],
      "execution_count": 7,
      "outputs": []
    },
    {
      "cell_type": "markdown",
      "metadata": {
        "id": "nLf4OdTZg_nS"
      },
      "source": [
        "### ШАГ 3: Вычисление балла BLEU\n",
        "(выполнить самостоятельно)"
      ]
    },
    {
      "cell_type": "code",
      "metadata": {
        "id": "XqVUhp1zg_nS"
      },
      "source": [
        "def bleu_score(candidate, reference):\n",
        "    BP = brevity_penalty(candidate, reference)\n",
        "    precision = clipped_precision(candidate, reference)\n",
        "    score = BP * precision\n",
        "    return score"
      ],
      "execution_count": 8,
      "outputs": []
    },
    {
      "cell_type": "markdown",
      "metadata": {
        "id": "SKTePr1Kg_nS"
      },
      "source": [
        "### ШАГ 4: Проверка на примере предложений-кандидатов и предложения-эталона"
      ]
    },
    {
      "cell_type": "code",
      "metadata": {
        "tags": [],
        "id": "wN-nj5Z2g_nS",
        "colab": {
          "base_uri": "https://localhost:8080/"
        },
        "outputId": "5d8e6f3c-d3d4-4426-df3b-dce68cf8b1c5"
      },
      "source": [
        "print(\n",
        "    \"Результат сравнения эталона с кандидатом 1, наш собственный код BLEU: \",\n",
        "    round(bleu_score(tokenized_cand_1, tokenized_ref) * 100, 1),\n",
        ")\n",
        "\n",
        "print(\n",
        "    \"Результат сравнения эталона с кандидатом 2, наш собственный код BLEU: \",\n",
        "    round(bleu_score(tokenized_cand_2, tokenized_ref) * 100, 1),\n",
        ")"
      ],
      "execution_count": 9,
      "outputs": [
        {
          "output_type": "stream",
          "name": "stdout",
          "text": [
            "Результат сравнения эталона с кандидатом 1, наш собственный код BLEU:  27.6\n",
            "Результат сравнения эталона с кандидатом 2, наш собственный код BLEU:  35.3\n"
          ]
        }
      ]
    },
    {
      "cell_type": "markdown",
      "metadata": {
        "id": "mzrCtwdBWss8"
      },
      "source": [
        "Ожидаемый вывод:\n",
        "```\n",
        "Результат сравнения эталона с кандидатом 1, наш собственный код BLEU:  27.6\n",
        "Результат сравнения эталона с кандидатом 2, наш собственный код BLEU:  35.3\n",
        "```"
      ]
    },
    {
      "cell_type": "markdown",
      "metadata": {
        "id": "aFrzLIlSg_nT"
      },
      "source": [
        "### Сравнение результатов нашего кода с метрикой BLEU из библиотеки Sacrebleu"
      ]
    },
    {
      "cell_type": "code",
      "metadata": {
        "scrolled": true,
        "id": "cloJwRufg_nT",
        "colab": {
          "base_uri": "https://localhost:8080/"
        },
        "outputId": "b33479a0-3dee-48f9-984a-8df2db4a80ae"
      },
      "source": [
        "print(\n",
        "    \"Результат сравнения эталона с кандидатом 1, BLEU из библиотеки sacrebleu: \",\n",
        "    round(sacrebleu.corpus_bleu([candidate_1], [[reference]]).score, 1),\n",
        ")\n",
        "print(\n",
        "    \"Результат сравнения эталона с кандидатом 2, BLEU из библиотеки sacrebleu: \",\n",
        "    round(sacrebleu.corpus_bleu([candidate_2], [[reference]]).score, 1),\n",
        ")"
      ],
      "execution_count": 10,
      "outputs": [
        {
          "output_type": "stream",
          "name": "stdout",
          "text": [
            "Результат сравнения эталона с кандидатом 1, BLEU из библиотеки sacrebleu:  27.6\n",
            "Результат сравнения эталона с кандидатом 2, BLEU из библиотеки sacrebleu:  35.3\n"
          ]
        }
      ]
    },
    {
      "cell_type": "markdown",
      "metadata": {
        "id": "rBDtMTdXg_nT"
      },
      "source": [
        "# Часть 2:  Вычисление BLEU на корпусе текстов"
      ]
    },
    {
      "cell_type": "markdown",
      "metadata": {
        "id": "Polg_205g_nT"
      },
      "source": [
        "## Загрузка наборов данных для оценки с использованием метрики BLEU"
      ]
    },
    {
      "cell_type": "markdown",
      "metadata": {
        "id": "wv4R4PfGg_nT"
      },
      "source": [
        "В этом разделе мы рассмотрим последовательность действий для оценки машинного переведода. Из-за ограничений по объему памяти и скорости мы не будем использовать нашу собственную модель в этой лабораторной работе (вы сделаете это в задании!). Вместо этого мы используем [Google Translate](https://translate.google.com) для создания переводов с английского на русский, и оценим его нашим набором метрик. Нам понадобятся три файла:\n",
        "\n",
        "1. Исходный корпус текстов на английском языке. В этой лабораторной работе мы будем использовать оценочный датасет [wmt19](http://statmt.org/wmt19/translation-task.html).\n",
        "2. Эталонный перевод на русский язык, (текст, переведенный человеком)\n",
        "\n",
        "3. Кандидатский машинный перевод на русский язык того же корпуса слов. Создан путем подачи исходного текста в модель машинного перевода. (Google Translate)\n",
        "\n",
        "Теперь мы можем сравнить перевод-эталон и перевод-кандидат, чтобы получить оценку BLEU."
      ]
    },
    {
      "cell_type": "code",
      "metadata": {
        "id": "nI972c4ygQL0"
      },
      "source": [
        "import urllib.request as r"
      ],
      "execution_count": 11,
      "outputs": []
    },
    {
      "cell_type": "code",
      "metadata": {
        "id": "eW2krP-i455H",
        "colab": {
          "base_uri": "https://localhost:8080/"
        },
        "outputId": "96dbcf77-88a7-4514-f1fb-b43ca41ccfa6"
      },
      "source": [
        "!mkdir data\n",
        "\n",
        "r.urlretrieve(\"https://raw.githubusercontent.com/andrew-veriga/Tensorflow-labs/master/wmt19_src.txt\",\"data/wmt19_src.txt\")\n",
        "r.urlretrieve(\"https://raw.githubusercontent.com/andrew-veriga/Tensorflow-labs/master/wmt19_ref_rus.txt\",\"data/wmt19_ref.txt\")\n",
        "r.urlretrieve(\"https://raw.githubusercontent.com/andrew-veriga/Tensorflow-labs/master/wmt19_can_rus.txt\",\"data/wmt19_can.txt\")\n"
      ],
      "execution_count": 12,
      "outputs": [
        {
          "output_type": "execute_result",
          "data": {
            "text/plain": [
              "('data/wmt19_can.txt', <http.client.HTTPMessage at 0x7c3ac9fd8550>)"
            ]
          },
          "metadata": {},
          "execution_count": 12
        }
      ]
    },
    {
      "cell_type": "code",
      "metadata": {
        "id": "0HneEuZAg_nU"
      },
      "source": [
        "# Загрузка данных\n",
        "wmt19_src = open(\"data/wmt19_src.txt\", \"r\")\n",
        "wmt19_src_1 = wmt19_src.read()\n",
        "wmt19_src.close()\n",
        "\n",
        "wmt19_ref = open(\"data/wmt19_ref.txt\", \"r\")\n",
        "wmt19_ref_1 = wmt19_ref.read()\n",
        "wmt19_ref.close()\n",
        "\n",
        "wmt19_can = open(\"data/wmt19_can.txt\", \"r\")\n",
        "wmt19_can_1 = wmt19_can.read()\n",
        "wmt19_can.close()\n",
        "# токенизация\n",
        "tokenized_corpus_src = nltk.word_tokenize(wmt19_src_1.lower())\n",
        "tokenized_corpus_ref = nltk.word_tokenize(wmt19_ref_1.lower())\n",
        "tokenized_corpus_cand = nltk.word_tokenize(wmt19_can_1.lower())"
      ],
      "execution_count": 13,
      "outputs": []
    },
    {
      "cell_type": "markdown",
      "metadata": {
        "id": "EznWqO5sg_nU"
      },
      "source": [
        "Выведем первые слова корпуса для проверки."
      ]
    },
    {
      "cell_type": "code",
      "metadata": {
        "tags": [],
        "id": "_OBegsGtg_nV",
        "colab": {
          "base_uri": "https://localhost:8080/"
        },
        "outputId": "77e19e4f-912e-4a6b-d554-0c24808a5f90"
      },
      "source": [
        "print(\"Английский источник:\")\n",
        "print(\"\\n\")\n",
        "print(f\"{wmt19_src_1[0:170]} -> {tokenized_corpus_src[0:30]}\")\n",
        "print(\"\\n\")\n",
        "print(\"Русский эталонный перевод:\")\n",
        "print(\"\\n\")\n",
        "print(f\"{wmt19_ref_1[0:219]} -> {tokenized_corpus_ref[0:35]}\")\n",
        "print(\"\\n\")\n",
        "print(\"Русский машинный перевод:\")\n",
        "print(\"\\n\")\n",
        "print(f\"{wmt19_can_1[0:199]} -> {tokenized_corpus_cand[0:29]}\")"
      ],
      "execution_count": 14,
      "outputs": [
        {
          "output_type": "stream",
          "name": "stdout",
          "text": [
            "Английский источник:\n",
            "\n",
            "\n",
            "﻿Welsh AMs worried about 'looking like muppets'\n",
            "There is consternation among some AMs at a suggestion their title should change to MWPs (Member of the Welsh Parliament).\n",
            " -> ['\\ufeffwelsh', 'ams', 'worried', 'about', \"'looking\", 'like', \"muppets'\", 'there', 'is', 'consternation', 'among', 'some', 'ams', 'at', 'a', 'suggestion', 'their', 'title', 'should', 'change', 'to', 'mwps', '(', 'member', 'of', 'the', 'welsh', 'parliament', ')', '.']\n",
            "\n",
            "\n",
            "Русский эталонный перевод:\n",
            "\n",
            "\n",
            "Уэльские члены ассамблеи беспокоятся о том, что они будут похожи на кукол\n",
            "Некоторые члены ассамблеи выражают недовольство предложением изменить название на MWP (член парламента Уэльса).\n",
            "Это связано с планами изменить на -> ['уэльские', 'члены', 'ассамблеи', 'беспокоятся', 'о', 'том', ',', 'что', 'они', 'будут', 'похожи', 'на', 'кукол', 'некоторые', 'члены', 'ассамблеи', 'выражают', 'недовольство', 'предложением', 'изменить', 'название', 'на', 'mwp', '(', 'член', 'парламента', 'уэльса', ')', '.', 'это', 'связано', 'с', 'планами', 'изменить', 'название']\n",
            "\n",
            "\n",
            "Русский машинный перевод:\n",
            "\n",
            "\n",
            "Уэльские AM беспокоятся о том, что они будут выглядеть как куклы\n",
            "Некоторые AM выражают недовольство предложением изменить название на MWP (член парламента Уэльса).\n",
            "Он возник из-за планов изменить наз -> ['уэльские', 'am', 'беспокоятся', 'о', 'том', ',', 'что', 'они', 'будут', 'выглядеть', 'как', 'куклы', 'некоторые', 'am', 'выражают', 'недовольство', 'предложением', 'изменить', 'название', 'на', 'mwp', '(', 'член', 'парламента', 'уэльса', ')', '.', 'он', 'возник']\n"
          ]
        }
      ]
    },
    {
      "cell_type": "code",
      "metadata": {
        "tags": [],
        "id": "GX_oR0tTg_nV",
        "colab": {
          "base_uri": "https://localhost:8080/"
        },
        "outputId": "01530c03-f671-4192-fbde-5ac09a0c88fd"
      },
      "source": [
        "print(\n",
        "    \"Результат сравнения эталона с кандидатом 1, наш собственный код BLEU: \",\n",
        "    round(bleu_score(tokenized_corpus_cand, tokenized_corpus_ref) * 100, 1),\n",
        ")"
      ],
      "execution_count": 45,
      "outputs": [
        {
          "output_type": "stream",
          "name": "stdout",
          "text": [
            "Результат сравнения эталона с кандидатом 1, наш собственный код BLEU:  73.5\n"
          ]
        }
      ]
    },
    {
      "cell_type": "code",
      "metadata": {
        "tags": [],
        "id": "YUn8Igvtg_nV",
        "colab": {
          "base_uri": "https://localhost:8080/"
        },
        "outputId": "2468df32-cb8c-4853-cec1-643776b00b24"
      },
      "source": [
        "bleu = sacrebleu.corpus_bleu([wmt19_can_1], [[wmt19_ref_1]])\n",
        "print(\n",
        "    \"Результат сравнения эталона с кандидатом 1, BLEU из библиотеки sacrebleu: \",\n",
        "    round(bleu.score,1)\n",
        ")"
      ],
      "execution_count": 46,
      "outputs": [
        {
          "output_type": "stream",
          "name": "stdout",
          "text": [
            "Результат сравнения эталона с кандидатом 1, BLEU из библиотеки sacrebleu:  72.8\n"
          ]
        }
      ]
    },
    {
      "cell_type": "markdown",
      "metadata": {
        "id": "mXfJkDDGUt0x"
      },
      "source": [
        "Ожидаемый вывод:\n",
        "```\n",
        "Результат сравнения эталона с кандидатом 1, BLEU из библиотеки sacrebleu:  72.8\n",
        "```"
      ]
    },
    {
      "cell_type": "markdown",
      "metadata": {
        "id": "u5LDKIxfg_nW"
      },
      "source": [
        "**BLEU Score Interpretation on a Corpus**\n",
        "\n",
        "|Score      | Interpretation                                                |\n",
        "|:---------:|:-------------------------------------------------------------:|\n",
        "| < 10      | Almost useless                                                |\n",
        "| 10 - 19   | Hard to get the gist                                          |\n",
        "| 20 - 29   | The gist is clear, but has significant grammatical errors     |\n",
        "| 30 - 40   | Understandable to good translations                           |\n",
        "| 40 - 50   | High quality translations                                     |\n",
        "| 50 - 60   | Very high quality, adequate, and fluent translations          |\n",
        "| > 60      | Quality often better than human                               |"
      ]
    },
    {
      "cell_type": "markdown",
      "metadata": {
        "id": "CyKdNggNg_nW"
      },
      "source": [
        "Из этой таблицы (взятой [отсюда](https://cloud.google.com/translate/automl/docs/evaluate)), мы видим, что перевод весьма неплох.\n",
        "\n",
        "Более того, результаты нашей оценки BLEU почти идентичны результатам BLEU из пакета SacreBLEU."
      ]
    }
  ]
}