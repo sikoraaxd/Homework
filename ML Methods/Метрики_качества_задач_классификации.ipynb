{
  "nbformat": 4,
  "nbformat_minor": 0,
  "metadata": {
    "colab": {
      "provenance": [],
      "collapsed_sections": [
        "e9KAtcP5O6IG",
        "gBt8IccHJYxp",
        "5Knxt-EgJrsq",
        "b-h2W-y9KEDl",
        "VTNXo4FGLWb1",
        "flncwGjULih3"
      ],
      "toc_visible": true
    },
    "kernelspec": {
      "name": "python3",
      "display_name": "Python 3"
    },
    "language_info": {
      "name": "python"
    }
  },
  "cells": [
    {
      "cell_type": "markdown",
      "source": [
        "# Подключение библиотек и определение глобальных переменных"
      ],
      "metadata": {
        "id": "e9KAtcP5O6IG"
      }
    },
    {
      "cell_type": "code",
      "execution_count": null,
      "metadata": {
        "id": "9bZ3xDjy_dzX"
      },
      "outputs": [],
      "source": [
        "import requests\n",
        "import pandas as pd\n",
        "import numpy as np\n",
        "\n",
        "from sklearn.tree import DecisionTreeClassifier\n",
        "from sklearn.ensemble import RandomForestClassifier\n",
        "from sklearn.model_selection import train_test_split\n",
        "\n",
        "from sklearn.metrics import (\n",
        "    accuracy_score, \n",
        "    precision_score, \n",
        "    recall_score, \n",
        "    f1_score, \n",
        "    log_loss, \n",
        "    precision_recall_curve, \n",
        "    roc_curve\n",
        ")\n",
        "\n",
        "import matplotlib.pyplot as plt"
      ]
    },
    {
      "cell_type": "markdown",
      "source": [
        "**Определяем гробальные переменные и задаем настройки библиотек:**\n",
        "- LOW_DEPTH - глубина мелкого дерева\n",
        "- HIGH_DEPTH - глубина глубокого дерева\n",
        "\n",
        "---"
      ],
      "metadata": {
        "id": "yJ5YUOQGHEgg"
      }
    },
    {
      "cell_type": "code",
      "source": [
        "LOW_DEPTH = 5\n",
        "HIGH_DEPTH = 30\n",
        "plt.style.use('ggplot')"
      ],
      "metadata": {
        "id": "5J5SKkSRYylb"
      },
      "execution_count": null,
      "outputs": []
    },
    {
      "cell_type": "markdown",
      "source": [
        "# Задание 1: Загрузить данные"
      ],
      "metadata": {
        "id": "gBt8IccHJYxp"
      }
    },
    {
      "cell_type": "markdown",
      "source": [
        "**Загружаем данные**\n",
        "\n",
        "---"
      ],
      "metadata": {
        "id": "8rM8gFf4HR9f"
      }
    },
    {
      "cell_type": "code",
      "source": [
        "data_url = requests.get('https://raw.githubusercontent.com/sikoraaxd/Homework/main/datasets/bioresponce.csv')\n",
        "with open('data.csv', 'w') as f:\n",
        "  f.write(data_url.content.decode('utf-8'))\n",
        "\n",
        "data = pd.read_csv('data.csv')\n",
        "data"
      ],
      "metadata": {
        "colab": {
          "base_uri": "https://localhost:8080/"
        },
        "id": "yXtZUrZd_ytI",
        "outputId": "7760a24b-d59f-45e0-9530-61c7a7fee9b9"
      },
      "execution_count": null,
      "outputs": [
        {
          "output_type": "execute_result",
          "data": {
            "text/plain": [
              "      Activity        D1        D2    D3   D4        D5        D6        D7  \\\n",
              "0            1  0.000000  0.497009  0.10  0.0  0.132956  0.678031  0.273166   \n",
              "1            1  0.366667  0.606291  0.05  0.0  0.111209  0.803455  0.106105   \n",
              "2            1  0.033300  0.480124  0.00  0.0  0.209791  0.610350  0.356453   \n",
              "3            1  0.000000  0.538825  0.00  0.5  0.196344  0.724230  0.235606   \n",
              "4            0  0.100000  0.517794  0.00  0.0  0.494734  0.781422  0.154361   \n",
              "...        ...       ...       ...   ...  ...       ...       ...       ...   \n",
              "3746         1  0.033300  0.506409  0.10  0.0  0.209887  0.633426  0.297659   \n",
              "3747         1  0.133333  0.651023  0.15  0.0  0.151154  0.766505  0.170876   \n",
              "3748         0  0.200000  0.520564  0.00  0.0  0.179949  0.768785  0.177341   \n",
              "3749         1  0.100000  0.765646  0.00  0.0  0.536954  0.634936  0.342713   \n",
              "3750         0  0.133333  0.533952  0.00  0.0  0.347966  0.757971  0.230667   \n",
              "\n",
              "            D8        D9  ...  D1767  D1768  D1769  D1770  D1771  D1772  \\\n",
              "0     0.585445  0.743663  ...      0      0      0      0      0      0   \n",
              "1     0.411754  0.836582  ...      1      1      1      1      0      1   \n",
              "2     0.517720  0.679051  ...      0      0      0      0      0      0   \n",
              "3     0.288764  0.805110  ...      0      0      0      0      0      0   \n",
              "4     0.303809  0.812646  ...      0      0      0      0      0      0   \n",
              "...        ...       ...  ...    ...    ...    ...    ...    ...    ...   \n",
              "3746  0.376124  0.727093  ...      0      0      0      0      0      0   \n",
              "3747  0.404546  0.787935  ...      0      0      1      0      1      0   \n",
              "3748  0.471179  0.872241  ...      0      0      0      0      0      0   \n",
              "3749  0.447162  0.672689  ...      0      0      0      0      0      0   \n",
              "3750  0.272652  0.854116  ...      0      0      0      0      0      0   \n",
              "\n",
              "      D1773  D1774  D1775  D1776  \n",
              "0         0      0      0      0  \n",
              "1         0      0      1      0  \n",
              "2         0      0      0      0  \n",
              "3         0      0      0      0  \n",
              "4         0      0      0      0  \n",
              "...     ...    ...    ...    ...  \n",
              "3746      0      0      0      0  \n",
              "3747      1      0      0      0  \n",
              "3748      0      0      0      0  \n",
              "3749      0      0      0      0  \n",
              "3750      0      0      0      0  \n",
              "\n",
              "[3751 rows x 1777 columns]"
            ],
            "text/html": [
              "\n",
              "  <div id=\"df-41a132ae-6067-4980-927c-8b7c5e412f16\">\n",
              "    <div class=\"colab-df-container\">\n",
              "      <div>\n",
              "<style scoped>\n",
              "    .dataframe tbody tr th:only-of-type {\n",
              "        vertical-align: middle;\n",
              "    }\n",
              "\n",
              "    .dataframe tbody tr th {\n",
              "        vertical-align: top;\n",
              "    }\n",
              "\n",
              "    .dataframe thead th {\n",
              "        text-align: right;\n",
              "    }\n",
              "</style>\n",
              "<table border=\"1\" class=\"dataframe\">\n",
              "  <thead>\n",
              "    <tr style=\"text-align: right;\">\n",
              "      <th></th>\n",
              "      <th>Activity</th>\n",
              "      <th>D1</th>\n",
              "      <th>D2</th>\n",
              "      <th>D3</th>\n",
              "      <th>D4</th>\n",
              "      <th>D5</th>\n",
              "      <th>D6</th>\n",
              "      <th>D7</th>\n",
              "      <th>D8</th>\n",
              "      <th>D9</th>\n",
              "      <th>...</th>\n",
              "      <th>D1767</th>\n",
              "      <th>D1768</th>\n",
              "      <th>D1769</th>\n",
              "      <th>D1770</th>\n",
              "      <th>D1771</th>\n",
              "      <th>D1772</th>\n",
              "      <th>D1773</th>\n",
              "      <th>D1774</th>\n",
              "      <th>D1775</th>\n",
              "      <th>D1776</th>\n",
              "    </tr>\n",
              "  </thead>\n",
              "  <tbody>\n",
              "    <tr>\n",
              "      <th>0</th>\n",
              "      <td>1</td>\n",
              "      <td>0.000000</td>\n",
              "      <td>0.497009</td>\n",
              "      <td>0.10</td>\n",
              "      <td>0.0</td>\n",
              "      <td>0.132956</td>\n",
              "      <td>0.678031</td>\n",
              "      <td>0.273166</td>\n",
              "      <td>0.585445</td>\n",
              "      <td>0.743663</td>\n",
              "      <td>...</td>\n",
              "      <td>0</td>\n",
              "      <td>0</td>\n",
              "      <td>0</td>\n",
              "      <td>0</td>\n",
              "      <td>0</td>\n",
              "      <td>0</td>\n",
              "      <td>0</td>\n",
              "      <td>0</td>\n",
              "      <td>0</td>\n",
              "      <td>0</td>\n",
              "    </tr>\n",
              "    <tr>\n",
              "      <th>1</th>\n",
              "      <td>1</td>\n",
              "      <td>0.366667</td>\n",
              "      <td>0.606291</td>\n",
              "      <td>0.05</td>\n",
              "      <td>0.0</td>\n",
              "      <td>0.111209</td>\n",
              "      <td>0.803455</td>\n",
              "      <td>0.106105</td>\n",
              "      <td>0.411754</td>\n",
              "      <td>0.836582</td>\n",
              "      <td>...</td>\n",
              "      <td>1</td>\n",
              "      <td>1</td>\n",
              "      <td>1</td>\n",
              "      <td>1</td>\n",
              "      <td>0</td>\n",
              "      <td>1</td>\n",
              "      <td>0</td>\n",
              "      <td>0</td>\n",
              "      <td>1</td>\n",
              "      <td>0</td>\n",
              "    </tr>\n",
              "    <tr>\n",
              "      <th>2</th>\n",
              "      <td>1</td>\n",
              "      <td>0.033300</td>\n",
              "      <td>0.480124</td>\n",
              "      <td>0.00</td>\n",
              "      <td>0.0</td>\n",
              "      <td>0.209791</td>\n",
              "      <td>0.610350</td>\n",
              "      <td>0.356453</td>\n",
              "      <td>0.517720</td>\n",
              "      <td>0.679051</td>\n",
              "      <td>...</td>\n",
              "      <td>0</td>\n",
              "      <td>0</td>\n",
              "      <td>0</td>\n",
              "      <td>0</td>\n",
              "      <td>0</td>\n",
              "      <td>0</td>\n",
              "      <td>0</td>\n",
              "      <td>0</td>\n",
              "      <td>0</td>\n",
              "      <td>0</td>\n",
              "    </tr>\n",
              "    <tr>\n",
              "      <th>3</th>\n",
              "      <td>1</td>\n",
              "      <td>0.000000</td>\n",
              "      <td>0.538825</td>\n",
              "      <td>0.00</td>\n",
              "      <td>0.5</td>\n",
              "      <td>0.196344</td>\n",
              "      <td>0.724230</td>\n",
              "      <td>0.235606</td>\n",
              "      <td>0.288764</td>\n",
              "      <td>0.805110</td>\n",
              "      <td>...</td>\n",
              "      <td>0</td>\n",
              "      <td>0</td>\n",
              "      <td>0</td>\n",
              "      <td>0</td>\n",
              "      <td>0</td>\n",
              "      <td>0</td>\n",
              "      <td>0</td>\n",
              "      <td>0</td>\n",
              "      <td>0</td>\n",
              "      <td>0</td>\n",
              "    </tr>\n",
              "    <tr>\n",
              "      <th>4</th>\n",
              "      <td>0</td>\n",
              "      <td>0.100000</td>\n",
              "      <td>0.517794</td>\n",
              "      <td>0.00</td>\n",
              "      <td>0.0</td>\n",
              "      <td>0.494734</td>\n",
              "      <td>0.781422</td>\n",
              "      <td>0.154361</td>\n",
              "      <td>0.303809</td>\n",
              "      <td>0.812646</td>\n",
              "      <td>...</td>\n",
              "      <td>0</td>\n",
              "      <td>0</td>\n",
              "      <td>0</td>\n",
              "      <td>0</td>\n",
              "      <td>0</td>\n",
              "      <td>0</td>\n",
              "      <td>0</td>\n",
              "      <td>0</td>\n",
              "      <td>0</td>\n",
              "      <td>0</td>\n",
              "    </tr>\n",
              "    <tr>\n",
              "      <th>...</th>\n",
              "      <td>...</td>\n",
              "      <td>...</td>\n",
              "      <td>...</td>\n",
              "      <td>...</td>\n",
              "      <td>...</td>\n",
              "      <td>...</td>\n",
              "      <td>...</td>\n",
              "      <td>...</td>\n",
              "      <td>...</td>\n",
              "      <td>...</td>\n",
              "      <td>...</td>\n",
              "      <td>...</td>\n",
              "      <td>...</td>\n",
              "      <td>...</td>\n",
              "      <td>...</td>\n",
              "      <td>...</td>\n",
              "      <td>...</td>\n",
              "      <td>...</td>\n",
              "      <td>...</td>\n",
              "      <td>...</td>\n",
              "      <td>...</td>\n",
              "    </tr>\n",
              "    <tr>\n",
              "      <th>3746</th>\n",
              "      <td>1</td>\n",
              "      <td>0.033300</td>\n",
              "      <td>0.506409</td>\n",
              "      <td>0.10</td>\n",
              "      <td>0.0</td>\n",
              "      <td>0.209887</td>\n",
              "      <td>0.633426</td>\n",
              "      <td>0.297659</td>\n",
              "      <td>0.376124</td>\n",
              "      <td>0.727093</td>\n",
              "      <td>...</td>\n",
              "      <td>0</td>\n",
              "      <td>0</td>\n",
              "      <td>0</td>\n",
              "      <td>0</td>\n",
              "      <td>0</td>\n",
              "      <td>0</td>\n",
              "      <td>0</td>\n",
              "      <td>0</td>\n",
              "      <td>0</td>\n",
              "      <td>0</td>\n",
              "    </tr>\n",
              "    <tr>\n",
              "      <th>3747</th>\n",
              "      <td>1</td>\n",
              "      <td>0.133333</td>\n",
              "      <td>0.651023</td>\n",
              "      <td>0.15</td>\n",
              "      <td>0.0</td>\n",
              "      <td>0.151154</td>\n",
              "      <td>0.766505</td>\n",
              "      <td>0.170876</td>\n",
              "      <td>0.404546</td>\n",
              "      <td>0.787935</td>\n",
              "      <td>...</td>\n",
              "      <td>0</td>\n",
              "      <td>0</td>\n",
              "      <td>1</td>\n",
              "      <td>0</td>\n",
              "      <td>1</td>\n",
              "      <td>0</td>\n",
              "      <td>1</td>\n",
              "      <td>0</td>\n",
              "      <td>0</td>\n",
              "      <td>0</td>\n",
              "    </tr>\n",
              "    <tr>\n",
              "      <th>3748</th>\n",
              "      <td>0</td>\n",
              "      <td>0.200000</td>\n",
              "      <td>0.520564</td>\n",
              "      <td>0.00</td>\n",
              "      <td>0.0</td>\n",
              "      <td>0.179949</td>\n",
              "      <td>0.768785</td>\n",
              "      <td>0.177341</td>\n",
              "      <td>0.471179</td>\n",
              "      <td>0.872241</td>\n",
              "      <td>...</td>\n",
              "      <td>0</td>\n",
              "      <td>0</td>\n",
              "      <td>0</td>\n",
              "      <td>0</td>\n",
              "      <td>0</td>\n",
              "      <td>0</td>\n",
              "      <td>0</td>\n",
              "      <td>0</td>\n",
              "      <td>0</td>\n",
              "      <td>0</td>\n",
              "    </tr>\n",
              "    <tr>\n",
              "      <th>3749</th>\n",
              "      <td>1</td>\n",
              "      <td>0.100000</td>\n",
              "      <td>0.765646</td>\n",
              "      <td>0.00</td>\n",
              "      <td>0.0</td>\n",
              "      <td>0.536954</td>\n",
              "      <td>0.634936</td>\n",
              "      <td>0.342713</td>\n",
              "      <td>0.447162</td>\n",
              "      <td>0.672689</td>\n",
              "      <td>...</td>\n",
              "      <td>0</td>\n",
              "      <td>0</td>\n",
              "      <td>0</td>\n",
              "      <td>0</td>\n",
              "      <td>0</td>\n",
              "      <td>0</td>\n",
              "      <td>0</td>\n",
              "      <td>0</td>\n",
              "      <td>0</td>\n",
              "      <td>0</td>\n",
              "    </tr>\n",
              "    <tr>\n",
              "      <th>3750</th>\n",
              "      <td>0</td>\n",
              "      <td>0.133333</td>\n",
              "      <td>0.533952</td>\n",
              "      <td>0.00</td>\n",
              "      <td>0.0</td>\n",
              "      <td>0.347966</td>\n",
              "      <td>0.757971</td>\n",
              "      <td>0.230667</td>\n",
              "      <td>0.272652</td>\n",
              "      <td>0.854116</td>\n",
              "      <td>...</td>\n",
              "      <td>0</td>\n",
              "      <td>0</td>\n",
              "      <td>0</td>\n",
              "      <td>0</td>\n",
              "      <td>0</td>\n",
              "      <td>0</td>\n",
              "      <td>0</td>\n",
              "      <td>0</td>\n",
              "      <td>0</td>\n",
              "      <td>0</td>\n",
              "    </tr>\n",
              "  </tbody>\n",
              "</table>\n",
              "<p>3751 rows × 1777 columns</p>\n",
              "</div>\n",
              "      <button class=\"colab-df-convert\" onclick=\"convertToInteractive('df-41a132ae-6067-4980-927c-8b7c5e412f16')\"\n",
              "              title=\"Convert this dataframe to an interactive table.\"\n",
              "              style=\"display:none;\">\n",
              "        \n",
              "  <svg xmlns=\"http://www.w3.org/2000/svg\" height=\"24px\"viewBox=\"0 0 24 24\"\n",
              "       width=\"24px\">\n",
              "    <path d=\"M0 0h24v24H0V0z\" fill=\"none\"/>\n",
              "    <path d=\"M18.56 5.44l.94 2.06.94-2.06 2.06-.94-2.06-.94-.94-2.06-.94 2.06-2.06.94zm-11 1L8.5 8.5l.94-2.06 2.06-.94-2.06-.94L8.5 2.5l-.94 2.06-2.06.94zm10 10l.94 2.06.94-2.06 2.06-.94-2.06-.94-.94-2.06-.94 2.06-2.06.94z\"/><path d=\"M17.41 7.96l-1.37-1.37c-.4-.4-.92-.59-1.43-.59-.52 0-1.04.2-1.43.59L10.3 9.45l-7.72 7.72c-.78.78-.78 2.05 0 2.83L4 21.41c.39.39.9.59 1.41.59.51 0 1.02-.2 1.41-.59l7.78-7.78 2.81-2.81c.8-.78.8-2.07 0-2.86zM5.41 20L4 18.59l7.72-7.72 1.47 1.35L5.41 20z\"/>\n",
              "  </svg>\n",
              "      </button>\n",
              "      \n",
              "  <style>\n",
              "    .colab-df-container {\n",
              "      display:flex;\n",
              "      flex-wrap:wrap;\n",
              "      gap: 12px;\n",
              "    }\n",
              "\n",
              "    .colab-df-convert {\n",
              "      background-color: #E8F0FE;\n",
              "      border: none;\n",
              "      border-radius: 50%;\n",
              "      cursor: pointer;\n",
              "      display: none;\n",
              "      fill: #1967D2;\n",
              "      height: 32px;\n",
              "      padding: 0 0 0 0;\n",
              "      width: 32px;\n",
              "    }\n",
              "\n",
              "    .colab-df-convert:hover {\n",
              "      background-color: #E2EBFA;\n",
              "      box-shadow: 0px 1px 2px rgba(60, 64, 67, 0.3), 0px 1px 3px 1px rgba(60, 64, 67, 0.15);\n",
              "      fill: #174EA6;\n",
              "    }\n",
              "\n",
              "    [theme=dark] .colab-df-convert {\n",
              "      background-color: #3B4455;\n",
              "      fill: #D2E3FC;\n",
              "    }\n",
              "\n",
              "    [theme=dark] .colab-df-convert:hover {\n",
              "      background-color: #434B5C;\n",
              "      box-shadow: 0px 1px 3px 1px rgba(0, 0, 0, 0.15);\n",
              "      filter: drop-shadow(0px 1px 2px rgba(0, 0, 0, 0.3));\n",
              "      fill: #FFFFFF;\n",
              "    }\n",
              "  </style>\n",
              "\n",
              "      <script>\n",
              "        const buttonEl =\n",
              "          document.querySelector('#df-41a132ae-6067-4980-927c-8b7c5e412f16 button.colab-df-convert');\n",
              "        buttonEl.style.display =\n",
              "          google.colab.kernel.accessAllowed ? 'block' : 'none';\n",
              "\n",
              "        async function convertToInteractive(key) {\n",
              "          const element = document.querySelector('#df-41a132ae-6067-4980-927c-8b7c5e412f16');\n",
              "          const dataTable =\n",
              "            await google.colab.kernel.invokeFunction('convertToInteractive',\n",
              "                                                     [key], {});\n",
              "          if (!dataTable) return;\n",
              "\n",
              "          const docLinkHtml = 'Like what you see? Visit the ' +\n",
              "            '<a target=\"_blank\" href=https://colab.research.google.com/notebooks/data_table.ipynb>data table notebook</a>'\n",
              "            + ' to learn more about interactive tables.';\n",
              "          element.innerHTML = '';\n",
              "          dataTable['output_type'] = 'display_data';\n",
              "          await google.colab.output.renderOutput(dataTable, element);\n",
              "          const docLink = document.createElement('div');\n",
              "          docLink.innerHTML = docLinkHtml;\n",
              "          element.appendChild(docLink);\n",
              "        }\n",
              "      </script>\n",
              "    </div>\n",
              "  </div>\n",
              "  "
            ]
          },
          "metadata": {},
          "execution_count": 33
        }
      ]
    },
    {
      "cell_type": "markdown",
      "source": [
        "**Делим данные на тренировочную и тестовую выборки**\n",
        "\n",
        "---"
      ],
      "metadata": {
        "id": "blgg19CDHY9p"
      }
    },
    {
      "cell_type": "code",
      "source": [
        "X, y = data.iloc[:, 1:], data.iloc[:, 0]\n",
        "\n",
        "X_train, X_test, y_train, y_test = train_test_split(X, y, random_state=17, test_size=0.33, shuffle=True)\n",
        "\n",
        "X_train.shape, y_train.shape"
      ],
      "metadata": {
        "id": "lBKeOXysHx8Z",
        "colab": {
          "base_uri": "https://localhost:8080/"
        },
        "outputId": "a73f858d-5966-4410-a274-e4d1bf47c8a6"
      },
      "execution_count": null,
      "outputs": [
        {
          "output_type": "execute_result",
          "data": {
            "text/plain": [
              "((2513, 1776), (2513,))"
            ]
          },
          "metadata": {},
          "execution_count": 34
        }
      ]
    },
    {
      "cell_type": "markdown",
      "source": [
        "# Задание 2: Обучить 4 классификатора, чтобы предсказать поле Activity"
      ],
      "metadata": {
        "id": "5Knxt-EgJrsq"
      }
    },
    {
      "cell_type": "markdown",
      "source": [
        "**Определяем классификаторы:**\n",
        "\n",
        "---\n",
        "\n",
        "* Мелкое дерево принятия решений\n",
        "*   Глубокое дерево принятия решений\n",
        "*   Случайный лес на мелких деревьях принятия решений\n",
        "*   Случайный лес на глубоких деревьях принятия решений\n",
        "\n",
        "---"
      ],
      "metadata": {
        "id": "Rji0EyZGHgLp"
      }
    },
    {
      "cell_type": "code",
      "source": [
        "models = [DecisionTreeClassifier(random_state=17, max_depth=LOW_DEPTH),\n",
        "          DecisionTreeClassifier(random_state=17, max_depth=HIGH_DEPTH),\n",
        "          RandomForestClassifier(random_state=17, max_depth=LOW_DEPTH),\n",
        "          RandomForestClassifier(random_state=17, max_depth=HIGH_DEPTH)]\n",
        "\n",
        "for model in models: \n",
        "  model.fit(X_train, y_train)"
      ],
      "metadata": {
        "id": "40S5BUoqI03t"
      },
      "execution_count": null,
      "outputs": []
    },
    {
      "cell_type": "markdown",
      "source": [
        "**Делаем прогнозы**\n",
        "\n",
        "---"
      ],
      "metadata": {
        "id": "SyXFi8ULID2W"
      }
    },
    {
      "cell_type": "code",
      "source": [
        "predictions = []\n",
        "\n",
        "for model in models:\n",
        "  predictions.append(model.predict(X_test))"
      ],
      "metadata": {
        "id": "qzNGint9OZJU"
      },
      "execution_count": null,
      "outputs": []
    },
    {
      "cell_type": "markdown",
      "source": [
        "# Задание 3: Для моделей рассчитать метрики:\n",
        "\n",
        "\n",
        "*   доля правильных ответов (accuracy)\n",
        "*   точность (precision)\n",
        "*   полнота (recall)\n",
        "*   F1-score\n",
        "*   log-loss\n",
        "\n"
      ],
      "metadata": {
        "id": "b-h2W-y9KEDl"
      }
    },
    {
      "cell_type": "markdown",
      "source": [
        "**Рассчитываем и выводим метрики качества для каждого классификатора**\n",
        "\n",
        "---"
      ],
      "metadata": {
        "id": "dZOpJzULIM6g"
      }
    },
    {
      "cell_type": "code",
      "source": [
        "metrics = []\n",
        "\n",
        "for predict in predictions:\n",
        "  accuracy  = accuracy_score(y_test, predict)\n",
        "  precision = precision_score(y_test, predict)\n",
        "  recall    = recall_score(y_test, predict)\n",
        "  f1        = f1_score(y_test, predict)\n",
        "  logl      = log_loss(y_test, predict)\n",
        "\n",
        "  metrics.append([accuracy, precision, recall, f1, logl])\n",
        "\n",
        "metrics_data = {\n",
        "    'Мелкое дерево':            metrics[0],\n",
        "    'Глубокое дерево':          metrics[1],\n",
        "    'Лес на мелких деревьях':   metrics[2],\n",
        "    'Лес на глубоких деревьях': metrics[3]\n",
        "}\n",
        "\n",
        "metrics_df = pd.DataFrame(metrics_data, index=['accuracy', 'precision', 'recall', 'f1-score', 'log loss'])\n",
        "metrics_df"
      ],
      "metadata": {
        "colab": {
          "base_uri": "https://localhost:8080/"
        },
        "id": "i21nzsDyWUY4",
        "outputId": "47157ba8-5b20-44c8-eeac-9fb17437a480"
      },
      "execution_count": null,
      "outputs": [
        {
          "output_type": "execute_result",
          "data": {
            "text/plain": [
              "           Мелкое дерево  Глубокое дерево  Лес на мелких деревьях  \\\n",
              "accuracy        0.767367         0.713247                0.736672   \n",
              "precision       0.790840         0.743034                0.752577   \n",
              "recall          0.774290         0.717489                0.763827   \n",
              "f1-score        0.782477         0.730038                0.758160   \n",
              "log loss        8.034957         9.904199                9.095134   \n",
              "\n",
              "           Лес на глубоких деревьях  \n",
              "accuracy                   0.803716  \n",
              "precision                  0.822727  \n",
              "recall                     0.811659  \n",
              "f1-score                   0.817156  \n",
              "log loss                   6.779496  "
            ],
            "text/html": [
              "\n",
              "  <div id=\"df-375ab086-7fa6-451d-ae5f-00235c9c8dec\">\n",
              "    <div class=\"colab-df-container\">\n",
              "      <div>\n",
              "<style scoped>\n",
              "    .dataframe tbody tr th:only-of-type {\n",
              "        vertical-align: middle;\n",
              "    }\n",
              "\n",
              "    .dataframe tbody tr th {\n",
              "        vertical-align: top;\n",
              "    }\n",
              "\n",
              "    .dataframe thead th {\n",
              "        text-align: right;\n",
              "    }\n",
              "</style>\n",
              "<table border=\"1\" class=\"dataframe\">\n",
              "  <thead>\n",
              "    <tr style=\"text-align: right;\">\n",
              "      <th></th>\n",
              "      <th>Мелкое дерево</th>\n",
              "      <th>Глубокое дерево</th>\n",
              "      <th>Лес на мелких деревьях</th>\n",
              "      <th>Лес на глубоких деревьях</th>\n",
              "    </tr>\n",
              "  </thead>\n",
              "  <tbody>\n",
              "    <tr>\n",
              "      <th>accuracy</th>\n",
              "      <td>0.767367</td>\n",
              "      <td>0.713247</td>\n",
              "      <td>0.736672</td>\n",
              "      <td>0.803716</td>\n",
              "    </tr>\n",
              "    <tr>\n",
              "      <th>precision</th>\n",
              "      <td>0.790840</td>\n",
              "      <td>0.743034</td>\n",
              "      <td>0.752577</td>\n",
              "      <td>0.822727</td>\n",
              "    </tr>\n",
              "    <tr>\n",
              "      <th>recall</th>\n",
              "      <td>0.774290</td>\n",
              "      <td>0.717489</td>\n",
              "      <td>0.763827</td>\n",
              "      <td>0.811659</td>\n",
              "    </tr>\n",
              "    <tr>\n",
              "      <th>f1-score</th>\n",
              "      <td>0.782477</td>\n",
              "      <td>0.730038</td>\n",
              "      <td>0.758160</td>\n",
              "      <td>0.817156</td>\n",
              "    </tr>\n",
              "    <tr>\n",
              "      <th>log loss</th>\n",
              "      <td>8.034957</td>\n",
              "      <td>9.904199</td>\n",
              "      <td>9.095134</td>\n",
              "      <td>6.779496</td>\n",
              "    </tr>\n",
              "  </tbody>\n",
              "</table>\n",
              "</div>\n",
              "      <button class=\"colab-df-convert\" onclick=\"convertToInteractive('df-375ab086-7fa6-451d-ae5f-00235c9c8dec')\"\n",
              "              title=\"Convert this dataframe to an interactive table.\"\n",
              "              style=\"display:none;\">\n",
              "        \n",
              "  <svg xmlns=\"http://www.w3.org/2000/svg\" height=\"24px\"viewBox=\"0 0 24 24\"\n",
              "       width=\"24px\">\n",
              "    <path d=\"M0 0h24v24H0V0z\" fill=\"none\"/>\n",
              "    <path d=\"M18.56 5.44l.94 2.06.94-2.06 2.06-.94-2.06-.94-.94-2.06-.94 2.06-2.06.94zm-11 1L8.5 8.5l.94-2.06 2.06-.94-2.06-.94L8.5 2.5l-.94 2.06-2.06.94zm10 10l.94 2.06.94-2.06 2.06-.94-2.06-.94-.94-2.06-.94 2.06-2.06.94z\"/><path d=\"M17.41 7.96l-1.37-1.37c-.4-.4-.92-.59-1.43-.59-.52 0-1.04.2-1.43.59L10.3 9.45l-7.72 7.72c-.78.78-.78 2.05 0 2.83L4 21.41c.39.39.9.59 1.41.59.51 0 1.02-.2 1.41-.59l7.78-7.78 2.81-2.81c.8-.78.8-2.07 0-2.86zM5.41 20L4 18.59l7.72-7.72 1.47 1.35L5.41 20z\"/>\n",
              "  </svg>\n",
              "      </button>\n",
              "      \n",
              "  <style>\n",
              "    .colab-df-container {\n",
              "      display:flex;\n",
              "      flex-wrap:wrap;\n",
              "      gap: 12px;\n",
              "    }\n",
              "\n",
              "    .colab-df-convert {\n",
              "      background-color: #E8F0FE;\n",
              "      border: none;\n",
              "      border-radius: 50%;\n",
              "      cursor: pointer;\n",
              "      display: none;\n",
              "      fill: #1967D2;\n",
              "      height: 32px;\n",
              "      padding: 0 0 0 0;\n",
              "      width: 32px;\n",
              "    }\n",
              "\n",
              "    .colab-df-convert:hover {\n",
              "      background-color: #E2EBFA;\n",
              "      box-shadow: 0px 1px 2px rgba(60, 64, 67, 0.3), 0px 1px 3px 1px rgba(60, 64, 67, 0.15);\n",
              "      fill: #174EA6;\n",
              "    }\n",
              "\n",
              "    [theme=dark] .colab-df-convert {\n",
              "      background-color: #3B4455;\n",
              "      fill: #D2E3FC;\n",
              "    }\n",
              "\n",
              "    [theme=dark] .colab-df-convert:hover {\n",
              "      background-color: #434B5C;\n",
              "      box-shadow: 0px 1px 3px 1px rgba(0, 0, 0, 0.15);\n",
              "      filter: drop-shadow(0px 1px 2px rgba(0, 0, 0, 0.3));\n",
              "      fill: #FFFFFF;\n",
              "    }\n",
              "  </style>\n",
              "\n",
              "      <script>\n",
              "        const buttonEl =\n",
              "          document.querySelector('#df-375ab086-7fa6-451d-ae5f-00235c9c8dec button.colab-df-convert');\n",
              "        buttonEl.style.display =\n",
              "          google.colab.kernel.accessAllowed ? 'block' : 'none';\n",
              "\n",
              "        async function convertToInteractive(key) {\n",
              "          const element = document.querySelector('#df-375ab086-7fa6-451d-ae5f-00235c9c8dec');\n",
              "          const dataTable =\n",
              "            await google.colab.kernel.invokeFunction('convertToInteractive',\n",
              "                                                     [key], {});\n",
              "          if (!dataTable) return;\n",
              "\n",
              "          const docLinkHtml = 'Like what you see? Visit the ' +\n",
              "            '<a target=\"_blank\" href=https://colab.research.google.com/notebooks/data_table.ipynb>data table notebook</a>'\n",
              "            + ' to learn more about interactive tables.';\n",
              "          element.innerHTML = '';\n",
              "          dataTable['output_type'] = 'display_data';\n",
              "          await google.colab.output.renderOutput(dataTable, element);\n",
              "          const docLink = document.createElement('div');\n",
              "          docLink.innerHTML = docLinkHtml;\n",
              "          element.appendChild(docLink);\n",
              "        }\n",
              "      </script>\n",
              "    </div>\n",
              "  </div>\n",
              "  "
            ]
          },
          "metadata": {},
          "execution_count": 37
        }
      ]
    },
    {
      "cell_type": "markdown",
      "source": [
        "# Задание 4: Построить графики precision-recall и ROC-кривых для моделей"
      ],
      "metadata": {
        "id": "VTNXo4FGLWb1"
      }
    },
    {
      "cell_type": "markdown",
      "source": [
        "**Получаем данные для построения precision-recall и ROC-кривых**\n",
        "\n",
        "---"
      ],
      "metadata": {
        "id": "TeNWT_lyITvW"
      }
    },
    {
      "cell_type": "code",
      "source": [
        "pr_curves = []\n",
        "roc_curves = []\n",
        "\n",
        "for model in models:\n",
        "  y_score = model.predict_proba(X_test)[:, 1]\n",
        "\n",
        "  precision, recall, _ = precision_recall_curve(y_test, y_score)\n",
        "  fpr, trp, _ = roc_curve(y_test, y_score)\n",
        "\n",
        "  pr_curves.append({'precision': precision, 'recall':recall})\n",
        "  roc_curves.append({'fpr': fpr, 'tpr':trp})"
      ],
      "metadata": {
        "id": "u724qcvkaLkl"
      },
      "execution_count": null,
      "outputs": []
    },
    {
      "cell_type": "markdown",
      "source": [
        "**Выводим графики**\n",
        "\n",
        "---"
      ],
      "metadata": {
        "id": "FPFuEvxWIeAa"
      }
    },
    {
      "cell_type": "markdown",
      "source": [
        "1) precision-recall кривые\n",
        "\n",
        "---"
      ],
      "metadata": {
        "id": "A2URZhFzIkvA"
      }
    },
    {
      "cell_type": "code",
      "source": [
        "plt.figure(figsize=(13,8)) \n",
        "plt.rcParams['lines.linewidth'] = 2\n",
        "plt.plot(pr_curves[0]['recall'], pr_curves[0]['precision'], label='Мелкое дерево')\n",
        "plt.plot(pr_curves[1]['recall'], pr_curves[1]['precision'], label='Глубокое дерево')\n",
        "plt.plot(pr_curves[2]['recall'], pr_curves[2]['precision'], label='Лес на мелких деревьях')\n",
        "plt.plot(pr_curves[3]['recall'], pr_curves[3]['precision'], label='Лес на глубоких деревьях')\n",
        "plt.xlabel('recall')\n",
        "plt.ylabel('precision')\n",
        "plt.legend()\n",
        "plt.show()"
      ],
      "metadata": {
        "colab": {
          "base_uri": "https://localhost:8080/"
        },
        "id": "wnU0mbGIej8c",
        "outputId": "a28b3e77-8c25-40c7-8c77-13ff49a2a6ad"
      },
      "execution_count": null,
      "outputs": [
        {
          "output_type": "display_data",
          "data": {
            "text/plain": [
              "<Figure size 936x576 with 1 Axes>"
            ],
            "image/png": "[encoded data removed]"
          },
          "metadata": {}
        }
      ]
    },
    {
      "cell_type": "markdown",
      "source": [
        "2) ROC-кривые\n",
        "\n",
        "---"
      ],
      "metadata": {
        "id": "HvrgkRzWIsox"
      }
    },
    {
      "cell_type": "code",
      "source": [
        "plt.figure(figsize=(13,8)) \n",
        "plt.rcParams['lines.linewidth'] = 2\n",
        "plt.plot(roc_curves[0]['fpr'], roc_curves[0]['tpr'], label='Мелкое дерево')\n",
        "plt.plot(roc_curves[1]['fpr'], roc_curves[1]['tpr'], label='Глубокое дерево')\n",
        "plt.plot(roc_curves[2]['fpr'], roc_curves[2]['tpr'], label='Лес на мелких деревьях')\n",
        "plt.plot(roc_curves[3]['fpr'], roc_curves[3]['tpr'], label='Лес на глубоких деревьях')\n",
        "plt.xlabel('false positive rate')\n",
        "plt.ylabel('true positive rate')\n",
        "plt.legend()\n",
        "plt.show()"
      ],
      "metadata": {
        "colab": {
          "base_uri": "https://localhost:8080/"
        },
        "id": "lDKlvUqAlHqw",
        "outputId": "80e6deaa-db6e-4586-e1e8-2f7a1d17ca18"
      },
      "execution_count": null,
      "outputs": [
        {
          "output_type": "display_data",
          "data": {
            "text/plain": [
              "<Figure size 936x576 with 1 Axes>"
            ],
            "image/png": "[encoded data removed]"
          },
          "metadata": {}
        }
      ]
    },
    {
      "cell_type": "markdown",
      "source": [
        "# Задание 5: Обучить классификатор, который избегает ошибок второго рода и рассчитать для него метрики качества."
      ],
      "metadata": {
        "id": "flncwGjULih3"
      }
    },
    {
      "cell_type": "markdown",
      "source": [
        "**Создаём класс класификатора, который будет давать прогнозы, максимизирующие recall метрику**\n",
        "\n",
        "---"
      ],
      "metadata": {
        "id": "rFIMKDt6I0lB"
      }
    },
    {
      "cell_type": "code",
      "source": [
        "class RecallClassifier:\n",
        "  def __init__(self, treshold=0.3):\n",
        "    self.classifier = RandomForestClassifier(random_state=17, max_depth=HIGH_DEPTH)\n",
        "    self.treshold = treshold\n",
        "\n",
        "  def fit(self, X, y):\n",
        "    self.classifier.fit(X, y)\n",
        "  \n",
        "  def predict(self, X):\n",
        "    return np.array(self.classifier.predict_proba(X)[:, 1]>=self.treshold, dtype=np.int64) "
      ],
      "metadata": {
        "id": "pEfIF8CU_SmP"
      },
      "execution_count": null,
      "outputs": []
    },
    {
      "cell_type": "markdown",
      "source": [
        "**Делаем прогнозы и выводим метрики качества**\n",
        "\n",
        "---"
      ],
      "metadata": {
        "id": "ZEI9dAzDJG36"
      }
    },
    {
      "cell_type": "code",
      "source": [
        "recall_classifier = RecallClassifier()\n",
        "recall_classifier.fit(X_train, y_train)\n",
        "recall_classifier_predicts = recall_classifier.predict(X_test)\n",
        "\n",
        "recall_classifier_metrics = []\n",
        "recall_classifier_metrics.append(accuracy_score(y_test, recall_classifier_predicts))\n",
        "recall_classifier_metrics.append(precision_score(y_test, recall_classifier_predicts))\n",
        "recall_classifier_metrics.append(recall_score(y_test, recall_classifier_predicts))\n",
        "recall_classifier_metrics.append(f1_score(y_test, recall_classifier_predicts))\n",
        "recall_classifier_metrics.append(log_loss(y_test, recall_classifier_predicts))\n",
        "\n",
        "recall_classifier_metrics_df = pd.DataFrame({'Классификатор, избегающий ошибок 2 рода': recall_classifier_metrics}, index=['accuracy', 'precision', 'recall', 'f1-score', 'log loss'])\n",
        "recall_classifier_metrics_df"
      ],
      "metadata": {
        "colab": {
          "base_uri": "https://localhost:8080/"
        },
        "id": "PMvylpqbAonw",
        "outputId": "ca4352d0-39f4-4606-f0fb-039c2b6f1fb5"
      },
      "execution_count": null,
      "outputs": [
        {
          "output_type": "execute_result",
          "data": {
            "text/plain": [
              "           Классификатор, избегающий ошибок 2 рода\n",
              "accuracy                                  0.710824\n",
              "precision                                 0.660144\n",
              "recall                                    0.958146\n",
              "f1-score                                  0.781707\n",
              "log loss                                  9.988001"
            ],
            "text/html": [
              "\n",
              "  <div id=\"df-be79a515-5b19-4d09-82a5-74bc0a617140\">\n",
              "    <div class=\"colab-df-container\">\n",
              "      <div>\n",
              "<style scoped>\n",
              "    .dataframe tbody tr th:only-of-type {\n",
              "        vertical-align: middle;\n",
              "    }\n",
              "\n",
              "    .dataframe tbody tr th {\n",
              "        vertical-align: top;\n",
              "    }\n",
              "\n",
              "    .dataframe thead th {\n",
              "        text-align: right;\n",
              "    }\n",
              "</style>\n",
              "<table border=\"1\" class=\"dataframe\">\n",
              "  <thead>\n",
              "    <tr style=\"text-align: right;\">\n",
              "      <th></th>\n",
              "      <th>Классификатор, избегающий ошибок 2 рода</th>\n",
              "    </tr>\n",
              "  </thead>\n",
              "  <tbody>\n",
              "    <tr>\n",
              "      <th>accuracy</th>\n",
              "      <td>0.710824</td>\n",
              "    </tr>\n",
              "    <tr>\n",
              "      <th>precision</th>\n",
              "      <td>0.660144</td>\n",
              "    </tr>\n",
              "    <tr>\n",
              "      <th>recall</th>\n",
              "      <td>0.958146</td>\n",
              "    </tr>\n",
              "    <tr>\n",
              "      <th>f1-score</th>\n",
              "      <td>0.781707</td>\n",
              "    </tr>\n",
              "    <tr>\n",
              "      <th>log loss</th>\n",
              "      <td>9.988001</td>\n",
              "    </tr>\n",
              "  </tbody>\n",
              "</table>\n",
              "</div>\n",
              "      <button class=\"colab-df-convert\" onclick=\"convertToInteractive('df-be79a515-5b19-4d09-82a5-74bc0a617140')\"\n",
              "              title=\"Convert this dataframe to an interactive table.\"\n",
              "              style=\"display:none;\">\n",
              "        \n",
              "  <svg xmlns=\"http://www.w3.org/2000/svg\" height=\"24px\"viewBox=\"0 0 24 24\"\n",
              "       width=\"24px\">\n",
              "    <path d=\"M0 0h24v24H0V0z\" fill=\"none\"/>\n",
              "    <path d=\"M18.56 5.44l.94 2.06.94-2.06 2.06-.94-2.06-.94-.94-2.06-.94 2.06-2.06.94zm-11 1L8.5 8.5l.94-2.06 2.06-.94-2.06-.94L8.5 2.5l-.94 2.06-2.06.94zm10 10l.94 2.06.94-2.06 2.06-.94-2.06-.94-.94-2.06-.94 2.06-2.06.94z\"/><path d=\"M17.41 7.96l-1.37-1.37c-.4-.4-.92-.59-1.43-.59-.52 0-1.04.2-1.43.59L10.3 9.45l-7.72 7.72c-.78.78-.78 2.05 0 2.83L4 21.41c.39.39.9.59 1.41.59.51 0 1.02-.2 1.41-.59l7.78-7.78 2.81-2.81c.8-.78.8-2.07 0-2.86zM5.41 20L4 18.59l7.72-7.72 1.47 1.35L5.41 20z\"/>\n",
              "  </svg>\n",
              "      </button>\n",
              "      \n",
              "  <style>\n",
              "    .colab-df-container {\n",
              "      display:flex;\n",
              "      flex-wrap:wrap;\n",
              "      gap: 12px;\n",
              "    }\n",
              "\n",
              "    .colab-df-convert {\n",
              "      background-color: #E8F0FE;\n",
              "      border: none;\n",
              "      border-radius: 50%;\n",
              "      cursor: pointer;\n",
              "      display: none;\n",
              "      fill: #1967D2;\n",
              "      height: 32px;\n",
              "      padding: 0 0 0 0;\n",
              "      width: 32px;\n",
              "    }\n",
              "\n",
              "    .colab-df-convert:hover {\n",
              "      background-color: #E2EBFA;\n",
              "      box-shadow: 0px 1px 2px rgba(60, 64, 67, 0.3), 0px 1px 3px 1px rgba(60, 64, 67, 0.15);\n",
              "      fill: #174EA6;\n",
              "    }\n",
              "\n",
              "    [theme=dark] .colab-df-convert {\n",
              "      background-color: #3B4455;\n",
              "      fill: #D2E3FC;\n",
              "    }\n",
              "\n",
              "    [theme=dark] .colab-df-convert:hover {\n",
              "      background-color: #434B5C;\n",
              "      box-shadow: 0px 1px 3px 1px rgba(0, 0, 0, 0.15);\n",
              "      filter: drop-shadow(0px 1px 2px rgba(0, 0, 0, 0.3));\n",
              "      fill: #FFFFFF;\n",
              "    }\n",
              "  </style>\n",
              "\n",
              "      <script>\n",
              "        const buttonEl =\n",
              "          document.querySelector('#df-be79a515-5b19-4d09-82a5-74bc0a617140 button.colab-df-convert');\n",
              "        buttonEl.style.display =\n",
              "          google.colab.kernel.accessAllowed ? 'block' : 'none';\n",
              "\n",
              "        async function convertToInteractive(key) {\n",
              "          const element = document.querySelector('#df-be79a515-5b19-4d09-82a5-74bc0a617140');\n",
              "          const dataTable =\n",
              "            await google.colab.kernel.invokeFunction('convertToInteractive',\n",
              "                                                     [key], {});\n",
              "          if (!dataTable) return;\n",
              "\n",
              "          const docLinkHtml = 'Like what you see? Visit the ' +\n",
              "            '<a target=\"_blank\" href=https://colab.research.google.com/notebooks/data_table.ipynb>data table notebook</a>'\n",
              "            + ' to learn more about interactive tables.';\n",
              "          element.innerHTML = '';\n",
              "          dataTable['output_type'] = 'display_data';\n",
              "          await google.colab.output.renderOutput(dataTable, element);\n",
              "          const docLink = document.createElement('div');\n",
              "          docLink.innerHTML = docLinkHtml;\n",
              "          element.appendChild(docLink);\n",
              "        }\n",
              "      </script>\n",
              "    </div>\n",
              "  </div>\n",
              "  "
            ]
          },
          "metadata": {},
          "execution_count": 42
        }
      ]
    }
  ]
}
